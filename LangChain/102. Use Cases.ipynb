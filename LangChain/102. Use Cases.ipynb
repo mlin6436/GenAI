{
 "cells": [
  {
   "cell_type": "markdown",
   "id": "0469441b",
   "metadata": {},
   "source": [
    "# LangChain Use Cases\n",
    "\n",
    "This document dives straight into implementing [LangChain use case](https://docs.langchain.com/docs/category/use-cases) using a step-by-step approach, and hopefully inspire you to build."
   ]
  },
  {
   "cell_type": "markdown",
   "id": "0cd6f639",
   "metadata": {},
   "source": [
    "## Summarization\n",
    "\n",
    "Langchain summarization is one of the most common usage of LangChain and LLMs. It can summarize any amount of text or documentations, including the ones that exceeds the token limit (currently set at `4096 tokens` for `gpt-35-turbo`), which roughly equates to `3000 words`. \n",
    "\n",
    "The technique used is similar to the concept of `sliding window`, which a fixed size window, usually under the max context window limit, is used to chunk the the long document into smaller pieces, then summarize the content recursively to produce the final summary using mapreduce.\n",
    "\n",
    "You can use it to summarize not only text, books, documents, audios, social media threads, and etc. Some use cases including: _articles_, _research pagers_, _legal and financial documents_, _transcripts_, _chat history_, _customer interactions_, _product reviews_, _podcasts_, _twitter threads_ and more."
   ]
  },
  {
   "cell_type": "code",
   "execution_count": 4,
   "id": "767ad9b9",
   "metadata": {},
   "outputs": [],
   "source": [
    "import dotenv\n",
    "import os\n",
    "import pdfplumber\n",
    "from langchain.llms import OpenAI\n",
    "from langchain.chains.summarize import load_summarize_chain\n",
    "from langchain.text_splitter import RecursiveCharacterTextSplitter\n",
    "\n",
    "dotenv.load_dotenv()\n",
    "openai_api_key = os.getenv(\"OPENAI_API_KEY\")\n",
    "\n",
    "llm = OpenAI(temperature = 0, openai_api_key = openai_api_key)"
   ]
  },
  {
   "cell_type": "markdown",
   "id": "78ccb69b",
   "metadata": {},
   "source": [
    "Now, let's load up `The Tragedy of Hamlet`"
   ]
  },
  {
   "cell_type": "code",
   "execution_count": 5,
   "id": "d234c3a1",
   "metadata": {},
   "outputs": [
    {
     "name": "stdout",
     "output_type": "stream",
     "text": [
      "The Tragedy of Hamlet, Prince of\n",
      "Denmark\n",
      "ASCIItextplacedinthepublicdomainbyMobyLexicalTools,1992.SGMLmarkupbyJonBosak,\n",
      "1992-1994.XMLversionbyJonBosak,1996-1999.SimplifiedXMLversionbyMaxFroumentin,2001.The\n",
      "XMLmarkupinthisversionisCopyright©1999JonBosak.Thisworkmayfreelybedistributedoncondition\n",
      "thatit\n"
     ]
    }
   ],
   "source": [
    "with pdfplumber.open(\"hamlet.pdf\") as pdf:\n",
    "    text = \"\"\n",
    "    for page in pdf.pages:\n",
    "        text += page.extract_text()\n",
    "        \n",
    "print(text[:300])"
   ]
  },
  {
   "cell_type": "markdown",
   "id": "2b7bb1b0",
   "metadata": {},
   "source": [
    "By outputting the total number of tokens of the book with [get_num_tokens](https://python.langchain.com/en/latest/reference/modules/llms.html#langchain.llms.OpenAI.get_num_tokens), you can clearly see it exceeds the context window limit."
   ]
  },
  {
   "cell_type": "code",
   "execution_count": 7,
   "id": "17a27316",
   "metadata": {},
   "outputs": [
    {
     "name": "stdout",
     "output_type": "stream",
     "text": [
      "total number of tokens: 53929\n"
     ]
    }
   ],
   "source": [
    "n_tokens = llm.get_num_tokens(text)\n",
    "\n",
    "print(f\"total number of tokens: {n_tokens}\")"
   ]
  },
  {
   "cell_type": "markdown",
   "id": "08bbf8a4",
   "metadata": {},
   "source": [
    "The process starts by `splitting` the text into multiple parts by `chunk size` using [RecursiveCharacterTextSplitter](https://python.langchain.com/en/latest/modules/indexes/text_splitters/examples/recursive_text_splitter.html), with a `coverlap` of each adjacent chunk of text."
   ]
  },
  {
   "cell_type": "code",
   "execution_count": 8,
   "id": "c744760e",
   "metadata": {},
   "outputs": [
    {
     "name": "stdout",
     "output_type": "stream",
     "text": [
      "number of docs: 100\n"
     ]
    }
   ],
   "source": [
    "text_splitter = RecursiveCharacterTextSplitter(separators=[\"\\n\\n\", \"\\n\"], chunk_size=2000, chunk_overlap=200, length_function = len)\n",
    "docs = text_splitter.create_documents([text])\n",
    "\n",
    "print(f\"number of docs: {len(docs)}\")"
   ]
  },
  {
   "cell_type": "markdown",
   "id": "21362eb6",
   "metadata": {},
   "source": [
    "Now the docs are ready, we can then load up a `chain` to do produce the sum of sums."
   ]
  },
  {
   "cell_type": "code",
   "execution_count": 12,
   "id": "a8ada059",
   "metadata": {},
   "outputs": [
    {
     "name": "stdout",
     "output_type": "stream",
     "text": [
      " In The Tragedy of Hamlet, Prince of Denmark, Hamlet is on a quest for revenge against his uncle, Claudius, who has usurped the throne. After encountering a ghostly figure, Hamlet learns that his father was murdered by his uncle and is determined to avenge his death. King Claudius and Lord Polonius devise a plan to spy on Hamlet and Ophelia, and Hamlet kills Polonius. Laertes returns from France and challenges Hamlet to a fencing match, during which Laertes wounds Hamlet with a poisoned sword. Hamlet stabs King Claudius with a poisoned sword and forces him to drink a poisoned potion. Prince Fortinbras arrives and orders that the bodies be placed on a stage for all to see, and then claims his rights of memory in the kingdom.\n"
     ]
    }
   ],
   "source": [
    "chain = load_summarize_chain(llm = llm, chain_type = 'map_reduce')\n",
    "result = chain.run(docs)\n",
    "\n",
    "print(result)"
   ]
  },
  {
   "cell_type": "markdown",
   "id": "d34599ae",
   "metadata": {},
   "source": [
    "When instanciating the `chain`, you can also add `Verbose = True` to see the steps LangChain took before producing the final summary, i.e. generating a summary per each chunk of text, and produce the final summary by aggregating the 100 summaries with map reduce.\n",
    "\n",
    "This is a powerful technique to overcome the token limitation. Even though more powerful models will be released in the future to support more tokens, such as Claude now supports [100K tokens](https://www.anthropic.com/index/100k-context-windows) as of 11 May 2023, biggest of the its kind. There is not guaranteed better performance, accuracy or cost-effectiveness.\n",
    "\n",
    "Moreover, you can [parallelise the calls](https://github.com/hwchase17/langchain/issues/1073) to super charge summarization using `batch_size` when instanciating LLMs."
   ]
  },
  {
   "cell_type": "markdown",
   "id": "e38fd670",
   "metadata": {},
   "source": [
    "## Question Answering Over Documents\n",
    "\n",
    "Similiar to how humans answer questions, first you need to provide some context to LLMs. The context can be in many different formats, such as text documents, SQL database, APIs, etc. For the purpose of this exercise, we will focus on dealing with text documents input as context. \n",
    "\n",
    "However, as the context grows, it naturally exceeds the token limit (again, just like in the case of summarization), and it gets harder and harder to give accurate answer quickly. The problem is solved by converting the context and your question into [embeddings](https://platform.openai.com/docs/guides/embeddings/what-are-embeddings), basically a list of vector value representaiton of information; then find out a few results that are closely related to your question before giving out a final answer. The process to do the comparison is via an algorithm called [cosine similarity](https://en.wikipedia.org/wiki/Cosine_similarity). If you are getting confused by the terminologies, don't worry. The formular is as following: \n",
    "\n",
    "`llm(context + question) = your answer`.\n",
    "\n",
    "With this capability, you can _chat with your documents_, _ask questions to papers_, _create study guides_, _reference medical information_ and more."
   ]
  },
  {
   "cell_type": "code",
   "execution_count": 15,
   "id": "58bfebcb",
   "metadata": {},
   "outputs": [],
   "source": [
    "from langchain import OpenAI\n",
    "from langchain.vectorstores import FAISS\n",
    "from langchain.chains import RetrievalQA\n",
    "from langchain.document_loaders import PyMuPDFLoader\n",
    "from langchain.embeddings.openai import OpenAIEmbeddings\n",
    "from langchain.text_splitter import RecursiveCharacterTextSplitter\n",
    "\n",
    "llm = OpenAI(temperature = 0, openai_api_key = openai_api_key)"
   ]
  },
  {
   "cell_type": "markdown",
   "id": "bc4234d0",
   "metadata": {},
   "source": [
    "Now, let's load `The Tragedy of Hamlet` again."
   ]
  },
  {
   "cell_type": "code",
   "execution_count": 47,
   "id": "b1957415",
   "metadata": {},
   "outputs": [
    {
     "name": "stdout",
     "output_type": "stream",
     "text": [
      "number of pages in the doc: 142\n",
      "number of characters in the doc: 179843\n"
     ]
    }
   ],
   "source": [
    "loader = PyMuPDFLoader(\"hamlet.pdf\")\n",
    "doc = loader.load()\n",
    "\n",
    "print(f\"number of pages in the doc: {len(doc)}\")\n",
    "total_chars = sum([len(page.page_content) for page in doc])\n",
    "print(f\"number of characters in the doc: {total_chars}\")"
   ]
  },
  {
   "cell_type": "markdown",
   "id": "d497c729",
   "metadata": {},
   "source": [
    "Now, we can split the PDF into chunks based on our definition."
   ]
  },
  {
   "cell_type": "code",
   "execution_count": 48,
   "id": "a4680b7c",
   "metadata": {},
   "outputs": [
    {
     "name": "stdout",
     "output_type": "stream",
     "text": [
      "number of splitted pages: 143\n",
      "average number of characters in each page: 1,258\n"
     ]
    }
   ],
   "source": [
    "text_splitter = RecursiveCharacterTextSplitter(chunk_size = 2000, chunk_overlap = 200)\n",
    "docs = text_splitter.split_documents(doc)\n",
    "\n",
    "print(f\"number of splitted pages: {len(docs)}\")\n",
    "print(f\"average number of characters in each page: {total_chars / len(docs):,.0f}\")"
   ]
  },
  {
   "cell_type": "markdown",
   "id": "759ef387",
   "metadata": {},
   "source": [
    "Then convert the documents into embeddings by calling OpenAI API Embedding engine, and store the result in a local vector store called `FAISS`. You can choose from a number of supported [vector stores](https://python.langchain.com/en/latest/modules/indexes/vectorstores.html) (local or remote)."
   ]
  },
  {
   "cell_type": "code",
   "execution_count": 22,
   "id": "fdf8d4b2",
   "metadata": {},
   "outputs": [],
   "source": [
    "embeddings = OpenAIEmbeddings(openai_api_key = openai_api_key)\n",
    "knowledge_base = FAISS.from_documents(docs, embeddings)"
   ]
  },
  {
   "cell_type": "markdown",
   "id": "b91bd096",
   "metadata": {},
   "source": [
    "Create a retrieval QA engine to perform queries."
   ]
  },
  {
   "cell_type": "code",
   "execution_count": 53,
   "id": "8cf320eb",
   "metadata": {},
   "outputs": [
    {
     "data": {
      "text/plain": [
       "'\\n\\nThe subject of Hamlet\\'s second soliloquy, the famous \"To be or not to be\" speech, is the contemplation of life and death and the decision of whether to take action against the troubles of life or to accept them. Hamlet is reflecting on the consequences of his inaction in the face of his father\\'s death and his mother\\'s remarriage, and is considering the idea of suicide as a way to escape his suffering. He is also questioning the value of life and death, and whether it is better to endure the pain of life or to end it. He is further considering the implications of his actions, and whether his life is worth the risk of taking action against his troubles. He is also questioning the power of death, and whether it is better to accept death or to fight against it. Additionally, Hamlet is questioning the nature of ambition and the idea of being \"bounded in a nut shell\" and whether it is possible to be content with one\\'s life despite the troubles and suffering that come with it.'"
      ]
     },
     "execution_count": 53,
     "metadata": {},
     "output_type": "execute_result"
    }
   ],
   "source": [
    "qa = RetrievalQA.from_chain_type(llm = llm, chain_type = \"refine\", retriever = knowledge_base.as_retriever())\n",
    "query = \"\"\"What is the subject of Hamlet's second soliloquy, the famous \"To be or not to be\" speech?\"\"\"\n",
    "qa.run(query)"
   ]
  },
  {
   "cell_type": "markdown",
   "id": "e17aadf4",
   "metadata": {},
   "source": [
    "By now, you should have a working example of QA over documents. You should also notice there are a number of similarities comparing to `summarization`, such as the way the context was loaded, splitted, before passing onto the `chain`.\n",
    "\n",
    "You may also have noticed different `chain types` specification used, and there is a good reason for that. Before explaining further, understand that LangChain chain types are basically different ways you can connect LLMs. Here are the supported chain types:\n",
    "- `map_reduce`: It separates texts into batches, feeds each batch with the question to LLM separately, and comes up with the final answer based on the answers from each batch.\n",
    "- `map_rerank`: It separates texts into batches, feeds each batch to LLM, returns a score of how fully it answers the question, and comes up with the final answer based on the high-scored answers from each batch.\n",
    "- `refine`: It separates texts into batches, feeds the first batch to LLM, and feeds the answer and the second batch to LLM. It refines the answer by going through all the batches.\n",
    "- `stuff`: The default chain type that uses ALL of the text from the documents in the prompt.\n",
    "\n",
    "Because the chain type will actually affect the result, I highly recommend you try different types, and figure out which works best for your scenario."
   ]
  },
  {
   "cell_type": "markdown",
   "id": "d0de2d3d",
   "metadata": {},
   "source": [
    "## Extraction\n",
    "\n",
    "LLMs are very good at extracting structured information out of unstructured text, whehter that's extracting one or multiple stuctured row from text to insert into database from a sentence, or extracting the correct API params from a user query.\n",
    "\n",
    "In essence, it is about working with [OutputParsers](https://python.langchain.com/en/latest/modules/prompts/output_parsers.html), which is responsible for specifying the schema a LLM should respond in, and then parsing their raw-text output into that structured format.\n",
    "\n",
    "Without further ado, let's dive straight into an example."
   ]
  },
  {
   "cell_type": "code",
   "execution_count": 56,
   "id": "8b9e72b9",
   "metadata": {},
   "outputs": [],
   "source": [
    "from langchain.schema import HumanMessage\n",
    "from langchain.prompts import PromptTemplate, ChatPromptTemplate, HumanMessagePromptTemplate\n",
    "from langchain.chat_models import ChatOpenAI\n",
    "from langchain.output_parsers import StructuredOutputParser, ResponseSchema\n",
    "\n",
    "chat_model = ChatOpenAI(temperature = 0, model = \"gpt-3.5-turbo\", openai_api_key = openai_api_key)"
   ]
  },
  {
   "cell_type": "markdown",
   "id": "16436c0a",
   "metadata": {},
   "source": [
    "This step is to define the schema, or more specicially, format instructions, to be added to the prompt, so that LLMs can act accordingly."
   ]
  },
  {
   "cell_type": "code",
   "execution_count": 62,
   "id": "326f8e00",
   "metadata": {},
   "outputs": [
    {
     "name": "stdout",
     "output_type": "stream",
     "text": [
      "The output should be a markdown code snippet formatted in the following schema:\n",
      "\n",
      "```json\n",
      "{\n",
      "\t\"author\": string  // The name of the author\n",
      "\t\"books\": string  // The books published\n",
      "}\n",
      "```\n"
     ]
    }
   ],
   "source": [
    "response_schemas = [\n",
    "    ResponseSchema(name=\"author\", description=\"The name of the author\"),\n",
    "    ResponseSchema(name=\"books\", description=\"The books published\")\n",
    "]\n",
    "\n",
    "output_parser = StructuredOutputParser.from_response_schemas(response_schemas)\n",
    "format_instructions = output_parser.get_format_instructions()\n",
    "\n",
    "print(format_instructions)"
   ]
  },
  {
   "cell_type": "code",
   "execution_count": 77,
   "id": "98ced9b3",
   "metadata": {},
   "outputs": [],
   "source": [
    "prompt = ChatPromptTemplate(\n",
    "    messages=[\n",
    "        HumanMessagePromptTemplate.from_template(\n",
    "            \"\"\"Extract the author and books.\\n\\n{format_instructions}\\n{user_prompt}\"\"\")  \n",
    "    ],\n",
    "    input_variables=[\"user_prompt\"],\n",
    "    partial_variables={\"format_instructions\": format_instructions}\n",
    ")"
   ]
  },
  {
   "cell_type": "code",
   "execution_count": 78,
   "id": "1d199b49",
   "metadata": {},
   "outputs": [
    {
     "name": "stdout",
     "output_type": "stream",
     "text": [
      "Extract the author and books.\n",
      "\n",
      "The output should be a markdown code snippet formatted in the following schema:\n",
      "\n",
      "```json\n",
      "{\n",
      "\t\"author\": string  // The name of the author\n",
      "\t\"books\": string  // The books published\n",
      "}\n",
      "```\n",
      "I recently read the book The Tragedy of Hamlet written by William Shakespeare\n"
     ]
    }
   ],
   "source": [
    "query = prompt.format_prompt(user_prompt=\"I recently read the book The Tragedy of Hamlet written by William Shakespeare\")\n",
    "print (query.messages[0].content)"
   ]
  },
  {
   "cell_type": "code",
   "execution_count": 79,
   "id": "c3b67499",
   "metadata": {},
   "outputs": [
    {
     "name": "stdout",
     "output_type": "stream",
     "text": [
      "{'author': 'William Shakespeare', 'books': 'The Tragedy of Hamlet'}\n",
      "<class 'dict'>\n"
     ]
    }
   ],
   "source": [
    "output = chat_model(query.to_messages())\n",
    "result = output_parser.parse(output.content)\n",
    "\n",
    "print (result)\n",
    "print (type(result))"
   ]
  },
  {
   "cell_type": "markdown",
   "id": "a06f696e",
   "metadata": {},
   "source": [
    "This is pretty cool example of data extraction and sanitisation, however, it is also quite basic. In real life scenario, you are likely to be dealing with more complex data and schema, such as nested structures. In which case, make sure to check out [Kor](https://eyurtsev.github.io/kor/), which provides the next level functionalities. "
   ]
  },
  {
   "cell_type": "markdown",
   "id": "94c60c22",
   "metadata": {},
   "source": [
    "## Querying Tabular Data\n",
    "\n",
    "Aside from unstructured data, there is also a lot of structured data sitting in CSVs, SQL, whether that's financial data, report or models or gazillions of day-to-day data that every company has. LLMs can deal with that as well. "
   ]
  },
  {
   "cell_type": "markdown",
   "id": "e1c026ec",
   "metadata": {},
   "source": [
    "It requires a bit of prep in order to demonstrate this:\n",
    "- To start with, I'll be using a `SQLite` database which basically stores `Goodreads Top 100 Classics`, this data comes from [kaggle](https://www.kaggle.com/datasets/notkrishna/goodreads-top-100-classical-books-of-all-time). Make sure you have SQLite installed or run `brew install sqlite3`.\n",
    "- Use [this](https://www.convertcsv.com/csv-to-sql.htm) to convert CSV data into a SQL INSERT script, results are kept in `goodreads.sql`.\n",
    "- Run the command to insert the data into a database called `goodreads.db`.\n",
    "```\n",
    "sqlite3 goodreads.db\n",
    "sqlite> .read goodreads.db\n",
    "```"
   ]
  },
  {
   "cell_type": "code",
   "execution_count": 96,
   "id": "4d9fba66",
   "metadata": {},
   "outputs": [],
   "source": [
    "from langchain import OpenAI, SQLDatabase, SQLDatabaseChain\n",
    "\n",
    "llm = OpenAI(temperature = 0, openai_api_key = openai_api_key)"
   ]
  },
  {
   "cell_type": "markdown",
   "id": "ab15e59b",
   "metadata": {},
   "source": [
    "This step will load up the data for the chain."
   ]
  },
  {
   "cell_type": "code",
   "execution_count": 97,
   "id": "a38bbe09",
   "metadata": {},
   "outputs": [],
   "source": [
    "sqlite_db_path = \"goodreads.db\"\n",
    "db = SQLDatabase.from_uri(f\"sqlite:///{sqlite_db_path}\")"
   ]
  },
  {
   "cell_type": "markdown",
   "id": "c786f05b",
   "metadata": {},
   "source": [
    "Then we can query the database using natural language, and I'll enable `verbose` mode so that you can see the chain of thoughts there."
   ]
  },
  {
   "cell_type": "code",
   "execution_count": 99,
   "id": "b9b5c9f2",
   "metadata": {},
   "outputs": [
    {
     "name": "stdout",
     "output_type": "stream",
     "text": [
      "\n",
      "\n",
      "\u001b[1m> Entering new SQLDatabaseChain chain...\u001b[0m\n",
      "How many books achieved an average rating above 4? \n",
      "SQLQuery:\u001b[32;1m\u001b[1;3m SELECT COUNT(*) FROM goodreads WHERE avg_rating > 4;\u001b[0m\n",
      "SQLResult: \u001b[33;1m\u001b[1;3m[(100,)]\u001b[0m\n",
      "Answer:\u001b[32;1m\u001b[1;3m 100 books achieved an average rating above 4.\u001b[0m\n",
      "\u001b[1m> Finished chain.\u001b[0m\n"
     ]
    },
    {
     "data": {
      "text/plain": [
       "' 100 books achieved an average rating above 4.'"
      ]
     },
     "execution_count": 99,
     "metadata": {},
     "output_type": "execute_result"
    }
   ],
   "source": [
    "db_chain = SQLDatabaseChain(llm = llm, database = db, verbose = True)\n",
    "db_chain.run(\"How many books achieved an average rating above 4?\")"
   ]
  },
  {
   "cell_type": "markdown",
   "id": "53290baa",
   "metadata": {},
   "source": [
    "Amazing! By using `verbose` mode, you can actually obverse the SQL query being constructed to extract the data based on our question, and the output in natural language as well.\n",
    "\n",
    "Let's run the query using `pandas` to verify the result, in case any hallucination in the LLM."
   ]
  },
  {
   "cell_type": "code",
   "execution_count": 101,
   "id": "79049d9a",
   "metadata": {},
   "outputs": [
    {
     "name": "stdout",
     "output_type": "stream",
     "text": [
      "100\n"
     ]
    }
   ],
   "source": [
    "import sqlite3\n",
    "import pandas as pd\n",
    "\n",
    "conn = sqlite3.connect(sqlite_db_path)\n",
    "query = \"SELECT COUNT(*) FROM goodreads WHERE avg_rating > 4;\"\n",
    "df = pd.read_sql_query(query, conn)\n",
    "conn.close()\n",
    "\n",
    "print(df.iloc[0,0])"
   ]
  },
  {
   "cell_type": "markdown",
   "id": "9f1cbc06",
   "metadata": {},
   "source": [
    "And the result checks out! But that's not it. To query larger databases and more complex schemas, we will need to introduce the use of `agents`, which typically involves running multiple sequential queries or error recovery. You can checkout the [agent_toolkits](https://github.com/hwchase17/langchain/tree/master/langchain/agents/agent_toolkits) for more details or I'll cover this concept when introducing `Agents`."
   ]
  },
  {
   "cell_type": "markdown",
   "id": "e988805d",
   "metadata": {},
   "source": [
    "## Code Understanding\n",
    "\n",
    "This is probably one of the most sought after features every developer or anyone who's interested in building has been dreaming for. LangChain can parse GitHub repos and generate new code using the mechnisms demonstrated so far, including `embeddings`, `vector stores`, `conversational retriever chain` and `LLMs`.\n",
    "\n",
    "Without paying for [GitHub Copilot](https://github.com/features/copilot), why not see what you can do with LLMs first?"
   ]
  },
  {
   "cell_type": "code",
   "execution_count": 103,
   "id": "a54cf55b",
   "metadata": {},
   "outputs": [],
   "source": [
    "import os\n",
    "\n",
    "from langchain.embeddings.openai import OpenAIEmbeddings\n",
    "from langchain.text_splitter import CharacterTextSplitter\n",
    "from langchain.document_loaders import TextLoader\n",
    "from langchain.vectorstores import FAISS\n",
    "from langchain.chat_models import ChatOpenAI \n",
    "from langchain.chains import RetrievalQA\n",
    "\n",
    "llm = ChatOpenAI(model=\"gpt-3.5-turbo\", openai_api_key=openai_api_key)"
   ]
  },
  {
   "cell_type": "markdown",
   "id": "bbcc871d",
   "metadata": {},
   "source": [
    "Here we do the embeddings again in preparation for loading the project as context."
   ]
  },
  {
   "cell_type": "code",
   "execution_count": 107,
   "id": "87412b95",
   "metadata": {},
   "outputs": [],
   "source": [
    "embeddings = OpenAIEmbeddings(openai_api_key = openai_api_key)"
   ]
  },
  {
   "cell_type": "markdown",
   "id": "7efae3ad",
   "metadata": {},
   "source": [
    "Scan through the whole codebase, the example here is a library called [pandas-ai](https://github.com/gventuri/pandas-ai), which is a clever wrapper around LLMs and the well-known [Pandas](https://github.com/pandas-dev/pandas)."
   ]
  },
  {
   "cell_type": "code",
   "execution_count": 109,
   "id": "7f194234",
   "metadata": {},
   "outputs": [
    {
     "name": "stdout",
     "output_type": "stream",
     "text": [
      "number of docs loaded: 133\n"
     ]
    }
   ],
   "source": [
    "project = \"pandas-ai\"\n",
    "docs = []\n",
    "\n",
    "for path, dirs, files in os.walk(project):\n",
    "    for file in files:\n",
    "        try: \n",
    "            loader = TextLoader(os.path.join(path, file), encoding='utf-8')\n",
    "            docs.extend(loader.load_and_split())\n",
    "        except Exception as e: \n",
    "            pass\n",
    "        \n",
    "print(f\"number of docs loaded: {len(docs)}\")"
   ]
  },
  {
   "cell_type": "markdown",
   "id": "71519570",
   "metadata": {},
   "source": [
    "Now we create the embeddings and store them locally."
   ]
  },
  {
   "cell_type": "code",
   "execution_count": 111,
   "id": "3f5b4e24",
   "metadata": {},
   "outputs": [],
   "source": [
    "knowledge_base = FAISS.from_documents(docs, embeddings)\n",
    "qa = RetrievalQA.from_chain_type(llm = llm, chain_type = \"stuff\", retriever = knowledge_base.as_retriever())"
   ]
  },
  {
   "cell_type": "markdown",
   "id": "df14156a",
   "metadata": {},
   "source": [
    "Now the fun begins, we gonna test whether LLM really understands the code and can help us code."
   ]
  },
  {
   "cell_type": "code",
   "execution_count": 112,
   "id": "3308cb11",
   "metadata": {},
   "outputs": [
    {
     "name": "stdout",
     "output_type": "stream",
     "text": [
      "To use Google PaLM2 as the LLM for queries, you can use the `GooglePalm` class provided in the code. Here's an example of how you can use it:\n",
      "\n",
      "```\n",
      "from pandasai.llm.google_palm import GooglePalm\n",
      "\n",
      "# Replace YOUR_API_KEY with your Google Cloud API key\n",
      "llm = GooglePalm(api_key='YOUR_API_KEY', model='models/text_bison_001')\n",
      "response = llm.call(instruction='Hello', value='world')\n",
      "\n",
      "print(response)\n",
      "```\n",
      "\n",
      "You need to replace `YOUR_API_KEY` with your own Google Cloud API key. You can also change the value of the `model` parameter to use a different model if necessary.\n"
     ]
    }
   ],
   "source": [
    "query = \"How can I use Google PaLM2 as the LLM for queries?\"\n",
    "output = qa.run(query)\n",
    "\n",
    "print(output)"
   ]
  },
  {
   "cell_type": "code",
   "execution_count": 113,
   "id": "00074fc8",
   "metadata": {},
   "outputs": [
    {
     "name": "stdout",
     "output_type": "stream",
     "text": [
      "```\n",
      "from pandasai.llm.google_palm import GooglePalm\n",
      "\n",
      "llm = GooglePalm(api_key=\"your_api_key\")\n",
      "```\n"
     ]
    }
   ],
   "source": [
    "query = \"Please write the code to instanciate Google PaLM2 as LLM, and only respond with code.\"\n",
    "output = qa.run(query)\n",
    "\n",
    "print(output)"
   ]
  },
  {
   "cell_type": "markdown",
   "id": "2d543a64",
   "metadata": {},
   "source": [
    "As you can see from the output, the result is pretty staggering. LLM plus LangChain can truly understand code, explain the functionalities, and it's able to produce some sensible code as a result of that. \n",
    "\n",
    "However, this is a very small sample in terms of its coding ability, you can use it to bootstrap work, but don't rely on it to code for you! Until we reach AGI, we still need a sound logical-minded person to give directions."
   ]
  },
  {
   "cell_type": "markdown",
   "id": "27413ec2",
   "metadata": {},
   "source": [
    "## Interacting with APIs\n",
    "\n",
    "There are tons of information and operations sitting behind APIs, and be able to interact with these APIs can take us even further. LangChain can read and understand API documents, and act upon that knowledge based on user instructions."
   ]
  },
  {
   "cell_type": "code",
   "execution_count": 123,
   "id": "66280682",
   "metadata": {},
   "outputs": [],
   "source": [
    "from langchain.llms import OpenAI\n",
    "from langchain.chains import APIChain\n",
    "from langchain.chains.api import open_meteo_docs\n",
    "\n",
    "llm = OpenAI(temperature = 0, openai_api_key = openai_api_key)"
   ]
  },
  {
   "cell_type": "markdown",
   "id": "c05cd399",
   "metadata": {},
   "source": [
    "In this case, I'll load up an API doc called [OPEN_METEO_DOCS](https://github.com/hwchase17/langchain/blob/master/langchain/chains/api/open_meteo_docs.py), which is used to query weather information, without needing to sign up or an api key, and use natural language to query the API."
   ]
  },
  {
   "cell_type": "code",
   "execution_count": 129,
   "id": "165996a7",
   "metadata": {},
   "outputs": [
    {
     "name": "stdout",
     "output_type": "stream",
     "text": [
      "\n",
      "\n",
      "\u001b[1m> Entering new APIChain chain...\u001b[0m\n",
      "\u001b[32;1m\u001b[1;3mhttps://api.open-meteo.com/v1/forecast?latitude=55.953251&longitude=-3.188267&hourly=temperature_2m&current_weather=true&temperature_unit=celsius\u001b[0m\n",
      "\u001b[33;1m\u001b[1;3m{\"latitude\":55.96,\"longitude\":-3.18,\"generationtime_ms\":0.3180503845214844,\"utc_offset_seconds\":0,\"timezone\":\"GMT\",\"timezone_abbreviation\":\"GMT\",\"elevation\":69.0,\"current_weather\":{\"temperature\":13.8,\"windspeed\":13.5,\"winddirection\":74.0,\"weathercode\":0,\"is_day\":1,\"time\":\"2023-05-22T14:00\"},\"hourly_units\":{\"time\":\"iso8601\",\"temperature_2m\":\"°C\"},\"hourly\":{\"time\":[\"2023-05-22T00:00\",\"2023-05-22T01:00\",\"2023-05-22T02:00\",\"2023-05-22T03:00\",\"2023-05-22T04:00\",\"2023-05-22T05:00\",\"2023-05-22T06:00\",\"2023-05-22T07:00\",\"2023-05-22T08:00\",\"2023-05-22T09:00\",\"2023-05-22T10:00\",\"2023-05-22T11:00\",\"2023-05-22T12:00\",\"2023-05-22T13:00\",\"2023-05-22T14:00\",\"2023-05-22T15:00\",\"2023-05-22T16:00\",\"2023-05-22T17:00\",\"2023-05-22T18:00\",\"2023-05-22T19:00\",\"2023-05-22T20:00\",\"2023-05-22T21:00\",\"2023-05-22T22:00\",\"2023-05-22T23:00\",\"2023-05-23T00:00\",\"2023-05-23T01:00\",\"2023-05-23T02:00\",\"2023-05-23T03:00\",\"2023-05-23T04:00\",\"2023-05-23T05:00\",\"2023-05-23T06:00\",\"2023-05-23T07:00\",\"2023-05-23T08:00\",\"2023-05-23T09:00\",\"2023-05-23T10:00\",\"2023-05-23T11:00\",\"2023-05-23T12:00\",\"2023-05-23T13:00\",\"2023-05-23T14:00\",\"2023-05-23T15:00\",\"2023-05-23T16:00\",\"2023-05-23T17:00\",\"2023-05-23T18:00\",\"2023-05-23T19:00\",\"2023-05-23T20:00\",\"2023-05-23T21:00\",\"2023-05-23T22:00\",\"2023-05-23T23:00\",\"2023-05-24T00:00\",\"2023-05-24T01:00\",\"2023-05-24T02:00\",\"2023-05-24T03:00\",\"2023-05-24T04:00\",\"2023-05-24T05:00\",\"2023-05-24T06:00\",\"2023-05-24T07:00\",\"2023-05-24T08:00\",\"2023-05-24T09:00\",\"2023-05-24T10:00\",\"2023-05-24T11:00\",\"2023-05-24T12:00\",\"2023-05-24T13:00\",\"2023-05-24T14:00\",\"2023-05-24T15:00\",\"2023-05-24T16:00\",\"2023-05-24T17:00\",\"2023-05-24T18:00\",\"2023-05-24T19:00\",\"2023-05-24T20:00\",\"2023-05-24T21:00\",\"2023-05-24T22:00\",\"2023-05-24T23:00\",\"2023-05-25T00:00\",\"2023-05-25T01:00\",\"2023-05-25T02:00\",\"2023-05-25T03:00\",\"2023-05-25T04:00\",\"2023-05-25T05:00\",\"2023-05-25T06:00\",\"2023-05-25T07:00\",\"2023-05-25T08:00\",\"2023-05-25T09:00\",\"2023-05-25T10:00\",\"2023-05-25T11:00\",\"2023-05-25T12:00\",\"2023-05-25T13:00\",\"2023-05-25T14:00\",\"2023-05-25T15:00\",\"2023-05-25T16:00\",\"2023-05-25T17:00\",\"2023-05-25T18:00\",\"2023-05-25T19:00\",\"2023-05-25T20:00\",\"2023-05-25T21:00\",\"2023-05-25T22:00\",\"2023-05-25T23:00\",\"2023-05-26T00:00\",\"2023-05-26T01:00\",\"2023-05-26T02:00\",\"2023-05-26T03:00\",\"2023-05-26T04:00\",\"2023-05-26T05:00\",\"2023-05-26T06:00\",\"2023-05-26T07:00\",\"2023-05-26T08:00\",\"2023-05-26T09:00\",\"2023-05-26T10:00\",\"2023-05-26T11:00\",\"2023-05-26T12:00\",\"2023-05-26T13:00\",\"2023-05-26T14:00\",\"2023-05-26T15:00\",\"2023-05-26T16:00\",\"2023-05-26T17:00\",\"2023-05-26T18:00\",\"2023-05-26T19:00\",\"2023-05-26T20:00\",\"2023-05-26T21:00\",\"2023-05-26T22:00\",\"2023-05-26T23:00\",\"2023-05-27T00:00\",\"2023-05-27T01:00\",\"2023-05-27T02:00\",\"2023-05-27T03:00\",\"2023-05-27T04:00\",\"2023-05-27T05:00\",\"2023-05-27T06:00\",\"2023-05-27T07:00\",\"2023-05-27T08:00\",\"2023-05-27T09:00\",\"2023-05-27T10:00\",\"2023-05-27T11:00\",\"2023-05-27T12:00\",\"2023-05-27T13:00\",\"2023-05-27T14:00\",\"2023-05-27T15:00\",\"2023-05-27T16:00\",\"2023-05-27T17:00\",\"2023-05-27T18:00\",\"2023-05-27T19:00\",\"2023-05-27T20:00\",\"2023-05-27T21:00\",\"2023-05-27T22:00\",\"2023-05-27T23:00\",\"2023-05-28T00:00\",\"2023-05-28T01:00\",\"2023-05-28T02:00\",\"2023-05-28T03:00\",\"2023-05-28T04:00\",\"2023-05-28T05:00\",\"2023-05-28T06:00\",\"2023-05-28T07:00\",\"2023-05-28T08:00\",\"2023-05-28T09:00\",\"2023-05-28T10:00\",\"2023-05-28T11:00\",\"2023-05-28T12:00\",\"2023-05-28T13:00\",\"2023-05-28T14:00\",\"2023-05-28T15:00\",\"2023-05-28T16:00\",\"2023-05-28T17:00\",\"2023-05-28T18:00\",\"2023-05-28T19:00\",\"2023-05-28T20:00\",\"2023-05-28T21:00\",\"2023-05-28T22:00\",\"2023-05-28T23:00\"],\"temperature_2m\":[10.1,10.0,10.0,10.0,10.0,10.3,10.5,11.5,12.2,13.2,14.4,15.3,16.0,13.7,13.8,14.5,14.8,14.8,14.2,13.3,11.9,11.5,11.5,11.1,10.8,10.7,10.4,10.0,9.7,9.6,10.0,10.9,12.0,13.2,14.3,14.9,15.7,16.3,16.5,16.4,16.0,15.5,14.7,13.7,12.8,12.1,11.6,11.3,10.9,10.2,9.8,9.4,9.2,9.3,10.2,11.6,13.0,14.4,15.3,15.4,15.6,15.9,15.7,15.6,15.7,15.8,15.8,15.4,14.5,13.4,12.5,11.7,11.0,10.2,9.4,8.6,8.1,8.2,9.9,11.2,12.6,14.2,15.6,16.8,18.0,18.8,19.5,19.9,20.0,19.8,19.3,18.2,16.8,15.5,14.4,13.5,12.7,12.0,11.4,11.2,11.2,11.5,12.1,13.1,14.5,15.9,17.3,18.6,19.7,20.5,21.1,21.3,21.1,20.5,19.6,18.3,16.7,15.3,14.2,13.2,12.5,11.9,11.6,11.6,12.2,13.1,13.8,13.6,15.0,16.2,16.9,17.4,17.6,17.4,16.9,16.4,16.0,15.6,15.0,14.0,12.8,11.7,10.6,9.6,8.8,8.2,7.8,7.7,7.8,8.2,8.8,9.7,10.7,11.6,12.3,13.0,13.6,14.2,14.7,14.9,14.8,14.3,13.5,12.3,10.9,9.6,8.8,8.3]}}\u001b[0m\n",
      "\n",
      "\u001b[1m> Finished chain.\u001b[0m\n"
     ]
    },
    {
     "data": {
      "text/plain": [
       "' The current temperature in Edinburgh is 13.8°C.'"
      ]
     },
     "execution_count": 129,
     "metadata": {},
     "output_type": "execute_result"
    }
   ],
   "source": [
    "api_chain = APIChain.from_llm_and_api_docs(llm, open_meteo_docs.OPEN_METEO_DOCS, verbose=True)\n",
    "api_chain.run(\"What is the weather like right now in Edingburgh in degrees celsius?\")"
   ]
  },
  {
   "cell_type": "markdown",
   "id": "159c456b",
   "metadata": {},
   "source": [
    "Let's try another question to see how that works."
   ]
  },
  {
   "cell_type": "code",
   "execution_count": 130,
   "id": "edccfd4d",
   "metadata": {},
   "outputs": [
    {
     "name": "stdout",
     "output_type": "stream",
     "text": [
      "\n",
      "\n",
      "\u001b[1m> Entering new APIChain chain...\u001b[0m\n",
      "\u001b[32;1m\u001b[1;3mhttps://api.open-meteo.com/v1/forecast?latitude=55.953251&longitude=-3.188267&hourly=temperature_2m&temperature_unit=celsius\u001b[0m\n",
      "\u001b[33;1m\u001b[1;3m{\"latitude\":55.96,\"longitude\":-3.18,\"generationtime_ms\":0.25403499603271484,\"utc_offset_seconds\":0,\"timezone\":\"GMT\",\"timezone_abbreviation\":\"GMT\",\"elevation\":69.0,\"hourly_units\":{\"time\":\"iso8601\",\"temperature_2m\":\"°C\"},\"hourly\":{\"time\":[\"2023-05-22T00:00\",\"2023-05-22T01:00\",\"2023-05-22T02:00\",\"2023-05-22T03:00\",\"2023-05-22T04:00\",\"2023-05-22T05:00\",\"2023-05-22T06:00\",\"2023-05-22T07:00\",\"2023-05-22T08:00\",\"2023-05-22T09:00\",\"2023-05-22T10:00\",\"2023-05-22T11:00\",\"2023-05-22T12:00\",\"2023-05-22T13:00\",\"2023-05-22T14:00\",\"2023-05-22T15:00\",\"2023-05-22T16:00\",\"2023-05-22T17:00\",\"2023-05-22T18:00\",\"2023-05-22T19:00\",\"2023-05-22T20:00\",\"2023-05-22T21:00\",\"2023-05-22T22:00\",\"2023-05-22T23:00\",\"2023-05-23T00:00\",\"2023-05-23T01:00\",\"2023-05-23T02:00\",\"2023-05-23T03:00\",\"2023-05-23T04:00\",\"2023-05-23T05:00\",\"2023-05-23T06:00\",\"2023-05-23T07:00\",\"2023-05-23T08:00\",\"2023-05-23T09:00\",\"2023-05-23T10:00\",\"2023-05-23T11:00\",\"2023-05-23T12:00\",\"2023-05-23T13:00\",\"2023-05-23T14:00\",\"2023-05-23T15:00\",\"2023-05-23T16:00\",\"2023-05-23T17:00\",\"2023-05-23T18:00\",\"2023-05-23T19:00\",\"2023-05-23T20:00\",\"2023-05-23T21:00\",\"2023-05-23T22:00\",\"2023-05-23T23:00\",\"2023-05-24T00:00\",\"2023-05-24T01:00\",\"2023-05-24T02:00\",\"2023-05-24T03:00\",\"2023-05-24T04:00\",\"2023-05-24T05:00\",\"2023-05-24T06:00\",\"2023-05-24T07:00\",\"2023-05-24T08:00\",\"2023-05-24T09:00\",\"2023-05-24T10:00\",\"2023-05-24T11:00\",\"2023-05-24T12:00\",\"2023-05-24T13:00\",\"2023-05-24T14:00\",\"2023-05-24T15:00\",\"2023-05-24T16:00\",\"2023-05-24T17:00\",\"2023-05-24T18:00\",\"2023-05-24T19:00\",\"2023-05-24T20:00\",\"2023-05-24T21:00\",\"2023-05-24T22:00\",\"2023-05-24T23:00\",\"2023-05-25T00:00\",\"2023-05-25T01:00\",\"2023-05-25T02:00\",\"2023-05-25T03:00\",\"2023-05-25T04:00\",\"2023-05-25T05:00\",\"2023-05-25T06:00\",\"2023-05-25T07:00\",\"2023-05-25T08:00\",\"2023-05-25T09:00\",\"2023-05-25T10:00\",\"2023-05-25T11:00\",\"2023-05-25T12:00\",\"2023-05-25T13:00\",\"2023-05-25T14:00\",\"2023-05-25T15:00\",\"2023-05-25T16:00\",\"2023-05-25T17:00\",\"2023-05-25T18:00\",\"2023-05-25T19:00\",\"2023-05-25T20:00\",\"2023-05-25T21:00\",\"2023-05-25T22:00\",\"2023-05-25T23:00\",\"2023-05-26T00:00\",\"2023-05-26T01:00\",\"2023-05-26T02:00\",\"2023-05-26T03:00\",\"2023-05-26T04:00\",\"2023-05-26T05:00\",\"2023-05-26T06:00\",\"2023-05-26T07:00\",\"2023-05-26T08:00\",\"2023-05-26T09:00\",\"2023-05-26T10:00\",\"2023-05-26T11:00\",\"2023-05-26T12:00\",\"2023-05-26T13:00\",\"2023-05-26T14:00\",\"2023-05-26T15:00\",\"2023-05-26T16:00\",\"2023-05-26T17:00\",\"2023-05-26T18:00\",\"2023-05-26T19:00\",\"2023-05-26T20:00\",\"2023-05-26T21:00\",\"2023-05-26T22:00\",\"2023-05-26T23:00\",\"2023-05-27T00:00\",\"2023-05-27T01:00\",\"2023-05-27T02:00\",\"2023-05-27T03:00\",\"2023-05-27T04:00\",\"2023-05-27T05:00\",\"2023-05-27T06:00\",\"2023-05-27T07:00\",\"2023-05-27T08:00\",\"2023-05-27T09:00\",\"2023-05-27T10:00\",\"2023-05-27T11:00\",\"2023-05-27T12:00\",\"2023-05-27T13:00\",\"2023-05-27T14:00\",\"2023-05-27T15:00\",\"2023-05-27T16:00\",\"2023-05-27T17:00\",\"2023-05-27T18:00\",\"2023-05-27T19:00\",\"2023-05-27T20:00\",\"2023-05-27T21:00\",\"2023-05-27T22:00\",\"2023-05-27T23:00\",\"2023-05-28T00:00\",\"2023-05-28T01:00\",\"2023-05-28T02:00\",\"2023-05-28T03:00\",\"2023-05-28T04:00\",\"2023-05-28T05:00\",\"2023-05-28T06:00\",\"2023-05-28T07:00\",\"2023-05-28T08:00\",\"2023-05-28T09:00\",\"2023-05-28T10:00\",\"2023-05-28T11:00\",\"2023-05-28T12:00\",\"2023-05-28T13:00\",\"2023-05-28T14:00\",\"2023-05-28T15:00\",\"2023-05-28T16:00\",\"2023-05-28T17:00\",\"2023-05-28T18:00\",\"2023-05-28T19:00\",\"2023-05-28T20:00\",\"2023-05-28T21:00\",\"2023-05-28T22:00\",\"2023-05-28T23:00\"],\"temperature_2m\":[10.1,10.0,10.0,10.0,10.0,10.3,10.5,11.5,12.2,13.2,14.4,15.3,16.0,13.7,13.8,14.5,14.8,14.8,14.2,13.3,11.9,11.5,11.5,11.1,10.8,10.7,10.4,10.0,9.7,9.6,10.0,10.9,12.0,13.2,14.3,14.9,15.7,16.3,16.5,16.4,16.0,15.5,14.7,13.7,12.8,12.1,11.6,11.3,10.9,10.2,9.8,9.4,9.2,9.3,10.2,11.6,13.0,14.4,15.3,15.4,15.6,15.9,15.7,15.6,15.7,15.8,15.8,15.4,14.5,13.4,12.5,11.7,11.0,10.2,9.4,8.6,8.1,8.2,9.9,11.2,12.6,14.2,15.6,16.8,18.0,18.8,19.5,19.9,20.0,19.8,19.3,18.2,16.8,15.5,14.4,13.5,12.7,12.0,11.4,11.2,11.2,11.5,12.1,13.1,14.5,15.9,17.3,18.6,19.7,20.5,21.1,21.3,21.1,20.5,19.6,18.3,16.7,15.3,14.2,13.2,12.5,11.9,11.6,11.6,12.2,13.1,13.8,13.6,15.0,16.2,16.9,17.4,17.6,17.4,16.9,16.4,16.0,15.6,15.0,14.0,12.8,11.7,10.6,9.6,8.8,8.2,7.8,7.7,7.8,8.2,8.8,9.7,10.7,11.6,12.3,13.0,13.6,14.2,14.7,14.9,14.8,14.3,13.5,12.3,10.9,9.6,8.8,8.3]}}\u001b[0m\n",
      "\n",
      "\u001b[1m> Finished chain.\u001b[0m\n"
     ]
    },
    {
     "data": {
      "text/plain": [
       "' The hourly weather forecast for Edinburgh for the next 7 days is 10°C at 00:00, 10°C at 01:00, 10°C at 02:00, 10°C at 03:00, 10°C at 04:00, 10.3°C at 05:00, 10.5°C at 06:00, 11.5°C at 07:00, 12.2°C at 08:00, 13.2°C at 09:00, 14.4°C at 10:00, 15.3°C at 11:00, 16.0°C at 12:00, 13.7°C at 13:00, 13.8°C at 14:00, 14.5°C at 15:00, 14.8°C at 16:00, 14.8°C at 17:00, 14.2°C at 18:00, 13.3°C at 19:00, 11.9°C at 20:00, 11.5°C at 21:00, 11.5°C at 22:00, 11.1°C at 23:00, 10.8°C at 00:00 the next day, and'"
      ]
     },
     "execution_count": 130,
     "metadata": {},
     "output_type": "execute_result"
    }
   ],
   "source": [
    "api_chain.run(\"Can you give me an hourly weather forecast for Edingburgh in degrees celsius?\")"
   ]
  },
  {
   "cell_type": "markdown",
   "id": "239dceda",
   "metadata": {},
   "source": [
    "From the exampls, you can see LangChain is able to extract meaning from my question, create API calls to retrive the data, and display the result, whilst the whole interaction is completed purely with natural language."
   ]
  },
  {
   "cell_type": "markdown",
   "id": "a513329d",
   "metadata": {},
   "source": [
    "## Evaluation\n",
    "\n",
    "By now, you probably have noticed that the output of LLMs can vary dramatically. Even with the same LLM, you can still expect different results for the same question every time you rerun. Lowering the temperature setting is one way to have more controlled and predictable output, however, that's not quite the point here.\n",
    "\n",
    "Evaluation is the mechnism to quality control the pipeline, i.e. the output of applications, and make sure it does not suffer from any regression."
   ]
  },
  {
   "cell_type": "code",
   "execution_count": 87,
   "id": "ff5ce3bd",
   "metadata": {},
   "outputs": [],
   "source": [
    "from langchain import OpenAI\n",
    "from langchain.document_loaders import TextLoader\n",
    "from langchain.embeddings.openai import OpenAIEmbeddings\n",
    "from langchain.vectorstores import FAISS\n",
    "from langchain.chains import RetrievalQA\n",
    "from langchain.evaluation.qa import QAEvalChain\n",
    "\n",
    "llm = OpenAI(temperature = 0, openai_api_key = openai_api_key)"
   ]
  },
  {
   "cell_type": "markdown",
   "id": "79889fe6",
   "metadata": {},
   "source": [
    "We need to prepare the data just like what we did in `Question Answering Over Documents`."
   ]
  },
  {
   "cell_type": "code",
   "execution_count": 88,
   "id": "aaaea91a",
   "metadata": {},
   "outputs": [],
   "source": [
    "loader = PyMuPDFLoader(\"hamlet.pdf\")\n",
    "doc = loader.load()\n",
    "text_splitter = RecursiveCharacterTextSplitter(chunk_size = 2000, chunk_overlap = 200)\n",
    "docs = text_splitter.split_documents(doc)\n",
    "embeddings = OpenAIEmbeddings(openai_api_key = openai_api_key)\n",
    "knowledge_base = FAISS.from_documents(docs, embeddings)"
   ]
  },
  {
   "cell_type": "markdown",
   "id": "b7762045",
   "metadata": {},
   "source": [
    "Then prepare a list of questions and answers as test cases, which I picked a few from [this](hamlet_qna.pdf)."
   ]
  },
  {
   "cell_type": "code",
   "execution_count": 90,
   "id": "500ab916",
   "metadata": {},
   "outputs": [],
   "source": [
    "question_answers = [\n",
    "    {\"question\" : \"Where does the play take place?\", \"answer\" : \"Denmark\"},\n",
    "    {\"question\" : \"What is the name of the castle?\", \"answer\" : \"Elsinore\"},\n",
    "    {\"question\" : \"What are the first words spoken in the play?\", \"answer\" : \"Who's there?\"},\n",
    "    {\"question\" : \"How has Ophelia died?\", \"answer\" : \"She has supposedly drowned (ambiguity surrounds her death).\"},\n",
    "    {\"question\" : \"When was Hamlet written?\", \"answer\" : \"1600-1601\"},\n",
    "]"
   ]
  },
  {
   "cell_type": "markdown",
   "id": "43c03a7d",
   "metadata": {},
   "source": [
    "Create a `RetrievalQA chain`, the `input_key` tells the chain to look for the `question` key in the dict above, as the input prompt / query to the LLM."
   ]
  },
  {
   "cell_type": "code",
   "execution_count": 91,
   "id": "e9954e09",
   "metadata": {},
   "outputs": [],
   "source": [
    "chain = RetrievalQA.from_chain_type(\n",
    "    llm = llm, \n",
    "    chain_type = \"stuff\", \n",
    "    retriever = knowledge_base.as_retriever(), \n",
    "    input_key = \"question\"\n",
    ")"
   ]
  },
  {
   "cell_type": "markdown",
   "id": "988c5fdf",
   "metadata": {},
   "source": [
    "This step is like executing the unit tests, it not only outputs the test asseration, but also the results for comparison."
   ]
  },
  {
   "cell_type": "code",
   "execution_count": 94,
   "id": "c83124ff",
   "metadata": {
    "scrolled": true
   },
   "outputs": [
    {
     "data": {
      "text/plain": [
       "[{'question': 'Where does the play take place?',\n",
       "  'answer': 'Denmark',\n",
       "  'result': ' The play takes place in Denmark.'},\n",
       " {'question': 'What is the name of the castle?',\n",
       "  'answer': 'Elsinore',\n",
       "  'result': ' The castle is Elsinore.'},\n",
       " {'question': 'What are the first words spoken in the play?',\n",
       "  'answer': \"Who's there?\",\n",
       "  'result': ' The first words spoken in the play are \"Who\\'s there?\" by Francisco.'},\n",
       " {'question': 'How has Ophelia died?',\n",
       "  'answer': 'She has supposedly drowned (ambiguity surrounds her death).',\n",
       "  'result': ' Ophelia has drowned.'},\n",
       " {'question': 'When was Hamlet written?',\n",
       "  'answer': '1600-1601',\n",
       "  'result': ' Hamlet was written by William Shakespeare in the early 1600s.'}]"
      ]
     },
     "execution_count": 94,
     "metadata": {},
     "output_type": "execute_result"
    }
   ],
   "source": [
    "predications = chain.apply(question_answers)\n",
    "predications"
   ]
  },
  {
   "cell_type": "markdown",
   "id": "91dd79fb",
   "metadata": {},
   "source": [
    "Once the execution result is produced, we call on `QAEvalChain` to evaluate the result."
   ]
  },
  {
   "cell_type": "code",
   "execution_count": 95,
   "id": "d705ddff",
   "metadata": {},
   "outputs": [
    {
     "data": {
      "text/plain": [
       "[{'text': ' CORRECT'},\n",
       " {'text': ' CORRECT'},\n",
       " {'text': ' CORRECT'},\n",
       " {'text': ' CORRECT'},\n",
       " {'text': ' CORRECT'}]"
      ]
     },
     "execution_count": 95,
     "metadata": {},
     "output_type": "execute_result"
    }
   ],
   "source": [
    "eval_chain = QAEvalChain.from_llm(llm)\n",
    "evaluation = eval_chain.evaluate(\n",
    "    question_answers,\n",
    "    predications,\n",
    "    question_key = \"question\",\n",
    "    answer_key = \"answer\",\n",
    "    prediction_key = \"result\"\n",
    ")\n",
    "evaluation"
   ]
  },
  {
   "cell_type": "markdown",
   "id": "352bbafc",
   "metadata": {},
   "source": [
    "Now the results are here, all answered correctly. Despite the exceptional outcome, I was expecting it to make some tiny mistakes, which would probably seem more human. I almost tempted to create some convoluted mind-twisting asserations, I am limited by my own creativity.\n",
    "\n",
    "Another thing you might find interesting is: having QAEvalChain marking it own homework. And I am not entirely sure how that mechnism works underneath the hood. So either you should dig into it if you are interested or take it with a pinch of salt (at least for now, until I can find a self-consistent answer)."
   ]
  },
  {
   "cell_type": "markdown",
   "id": "0be8850f",
   "metadata": {},
   "source": [
    "## Chatbots\n",
    "\n",
    "Chatbot is a very powerful and interesting application of LLMs, however, what sets humans apart from AI chat bots is its `memory`. And LangChain has a number of ways to make LLMs [remember the conversation](https://python.langchain.com/en/latest/modules/memory/how_to_guides.html).\n",
    "\n",
    "With `memory`, LLMs can have a real time interaction with users, providing customised useful advice to people without sounding robotic."
   ]
  },
  {
   "cell_type": "code",
   "execution_count": 132,
   "id": "70a7f400",
   "metadata": {},
   "outputs": [],
   "source": [
    "from langchain.llms import OpenAI\n",
    "from langchain import LLMChain\n",
    "from langchain.prompts.prompt import PromptTemplate\n",
    "from langchain.memory import ConversationBufferMemory\n",
    "\n",
    "llm = OpenAI(temperature = 0, openai_api_key=openai_api_key)"
   ]
  },
  {
   "cell_type": "code",
   "execution_count": 133,
   "id": "057009c1",
   "metadata": {},
   "outputs": [],
   "source": [
    "template = \"\"\"\n",
    "You are a helpful personal assistant. \n",
    "Your goal is to try to help answer the questions best you can. Do not make things up.\n",
    "\n",
    "{chat_history}\n",
    "Human: {question}\n",
    "Chatbot:\"\"\"\n",
    "\n",
    "prompt = PromptTemplate(\n",
    "    input_variables = [\"chat_history\", \"question\"], \n",
    "    template = template\n",
    ")\n",
    "memory = ConversationBufferMemory(memory_key = \"chat_history\")\n",
    "llm_chain = LLMChain(llm = llm, prompt = prompt, memory = memory, verbose = True)"
   ]
  },
  {
   "cell_type": "code",
   "execution_count": 135,
   "id": "d84c0d4b",
   "metadata": {},
   "outputs": [
    {
     "name": "stdout",
     "output_type": "stream",
     "text": [
      "\n",
      "\n",
      "\u001b[1m> Entering new LLMChain chain...\u001b[0m\n",
      "Prompt after formatting:\n",
      "\u001b[32;1m\u001b[1;3m\n",
      "You are a helpful personal assistant. \n",
      "Your goal is to try to help answer the questions best you can. Do not make things up.\n",
      "\n",
      "\n",
      "Human: Who is the current president of united states?\n",
      "Chatbot:\u001b[0m\n",
      "\n",
      "\u001b[1m> Finished chain.\u001b[0m\n"
     ]
    },
    {
     "data": {
      "text/plain": [
       "' The current President of the United States is Joe Biden.'"
      ]
     },
     "execution_count": 135,
     "metadata": {},
     "output_type": "execute_result"
    }
   ],
   "source": [
    "llm_chain.predict(question = \"Who is the current president of united states?\")"
   ]
  },
  {
   "cell_type": "code",
   "execution_count": 136,
   "id": "72574640",
   "metadata": {},
   "outputs": [
    {
     "name": "stdout",
     "output_type": "stream",
     "text": [
      "\n",
      "\n",
      "\u001b[1m> Entering new LLMChain chain...\u001b[0m\n",
      "Prompt after formatting:\n",
      "\u001b[32;1m\u001b[1;3m\n",
      "You are a helpful personal assistant. \n",
      "Your goal is to try to help answer the questions best you can. Do not make things up.\n",
      "\n",
      "Human: Who is the current president of united states?\n",
      "AI:  The current President of the United States is Joe Biden.\n",
      "Human: Who is the last president of united states?\n",
      "Chatbot:\u001b[0m\n",
      "\n",
      "\u001b[1m> Finished chain.\u001b[0m\n"
     ]
    },
    {
     "data": {
      "text/plain": [
       "' The last President of the United States was Donald Trump.'"
      ]
     },
     "execution_count": 136,
     "metadata": {},
     "output_type": "execute_result"
    }
   ],
   "source": [
    "llm_chain.predict(question = \"Who is the last president of united states?\")"
   ]
  },
  {
   "cell_type": "code",
   "execution_count": 137,
   "id": "2299bd42",
   "metadata": {},
   "outputs": [
    {
     "name": "stdout",
     "output_type": "stream",
     "text": [
      "\n",
      "\n",
      "\u001b[1m> Entering new LLMChain chain...\u001b[0m\n",
      "Prompt after formatting:\n",
      "\u001b[32;1m\u001b[1;3m\n",
      "You are a helpful personal assistant. \n",
      "Your goal is to try to help answer the questions best you can. Do not make things up.\n",
      "\n",
      "Human: Who is the current president of united states?\n",
      "AI:  The current President of the United States is Joe Biden.\n",
      "Human: Who is the last president of united states?\n",
      "AI:  The last President of the United States was Donald Trump.\n",
      "Human: What was the first question I asked you?\n",
      "Chatbot:\u001b[0m\n",
      "\n",
      "\u001b[1m> Finished chain.\u001b[0m\n"
     ]
    },
    {
     "data": {
      "text/plain": [
       "' You asked me who is the current President of the United States.'"
      ]
     },
     "execution_count": 137,
     "metadata": {},
     "output_type": "execute_result"
    }
   ],
   "source": [
    "llm_chain.predict(question = \"What was the first question I asked you?\")"
   ]
  },
  {
   "cell_type": "markdown",
   "id": "5fe0dc19",
   "metadata": {},
   "source": [
    "The final question shows how `memory` works for chat bots. That said, there are more than one way of preserving the memory, you can find out more [here](https://python.langchain.com/en/latest/use_cases/chatbots.html)."
   ]
  },
  {
   "cell_type": "markdown",
   "id": "0e3212fd",
   "metadata": {},
   "source": [
    "## Agents\n",
    "\n",
    "Last but not least, Agents. Agent is one of the most exciting part of LangChain that can be used for a variety of tasks. Agent is the decision maker that looks at data, understand what the next action should be, and execute and implement solutions on your behalf, by invoking a series of tools it has access."
   ]
  },
  {
   "cell_type": "code",
   "execution_count": 163,
   "id": "39cd0bc8",
   "metadata": {},
   "outputs": [],
   "source": [
    "import dotenv\n",
    "import os\n",
    "import json\n",
    "\n",
    "from langchain.llms import OpenAI\n",
    "from langchain.agents import load_tools\n",
    "from langchain.agents import initialize_agent\n",
    "from langchain.agents import Tool\n",
    "from langchain.utilities import GoogleSearchAPIWrapper\n",
    "from langchain.utilities.wolfram_alpha import WolframAlphaAPIWrapper\n",
    "\n",
    "dotenv.load_dotenv()\n",
    "\n",
    "llm = OpenAI(temperature = 0, openai_api_key = openai_api_key)"
   ]
  },
  {
   "cell_type": "markdown",
   "id": "f87c45c0",
   "metadata": {},
   "source": [
    "In this example, we will set up an agent that's capable of doing google search and performing basic calculations, which ChatGPT is notoriously bad at.\n",
    "\n",
    "To search google, you need to setup and retrieve api keys from Google Services for [Custom Search API](https://console.cloud.google.com/apis/credentials) and [Programmable Search Engine](https://programmablesearchengine.google.com/controlpanel/create).\n",
    "\n",
    "To perform calculation, we will use a tool called [Wolfram Alpha](https://www.wolframalpha.com/), you can register  for free, and follow the [developer portal](https://developer.wolframalpha.com/portal/mywidgets) to create an app. Be sure to make a note of the `APPID`.\n",
    "\n",
    "Keep all the api keys in the `~/.env` file with appropriate names, refer to the code below for examples.\n",
    "\n",
    "After the keys have been setup, you may need to install the following packages if you don't have them locally.\n",
    "```\n",
    "pip install google-api-python-client\n",
    "pip install wolframalpha\n",
    "```\n",
    "\n",
    "Now the laborious steps are out of the way, let the fun begin."
   ]
  },
  {
   "cell_type": "code",
   "execution_count": 168,
   "id": "0aca5a97",
   "metadata": {},
   "outputs": [],
   "source": [
    "google_api_key = os.getenv(\"GOOGLE_API_KEY\")\n",
    "google_cse_id = os.getenv(\"GOOGLE_CSE_ID\")\n",
    "wolfram_alpha_appid = os.getenv(\"WOLFRAM_ALPHA_APPID\")\n",
    "google = GoogleSearchAPIWrapper(google_api_key = google_api_key, google_cse_id = google_cse_id)\n",
    "wolfram = WolframAlphaAPIWrapper(wolfram_alpha_appid = wolfram_alpha_appid)\n",
    "\n",
    "toolkit = [\n",
    "    Tool(\n",
    "        name = \"Google Search\",\n",
    "        func = google.run,\n",
    "        description= \"Google Search is a web search engine that helps you find information on the web.\"\n",
    "    ),\n",
    "    Tool(\n",
    "        name = \"Wolfram Alpha\",\n",
    "        func = wolfram.run,\n",
    "        description = \"Wolfram Alpha is a computational knowledge engine that answers your questions in a natural language format\"\n",
    "    ),\n",
    "]\n",
    "\n",
    "agent = initialize_agent(toolkit, llm, agent=\"zero-shot-react-description\", verbose=True, return_intermediate_steps=True)"
   ]
  },
  {
   "cell_type": "code",
   "execution_count": 169,
   "id": "ca19b460",
   "metadata": {},
   "outputs": [
    {
     "name": "stdout",
     "output_type": "stream",
     "text": [
      "\n",
      "\n",
      "\u001b[1m> Entering new AgentExecutor chain...\u001b[0m\n",
      "\u001b[32;1m\u001b[1;3m I should look up the answer online.\n",
      "Action: Google Search\n",
      "Action Input: \"capital city of France\"\u001b[0m\n",
      "Observation: \u001b[36;1m\u001b[1;3mAs the capital of France, Paris is the seat of France's national government. For the executive, the two chief officers each have their own official residences, ... The capital and by far the most important city of France is Paris, one of the world's preeminent cultural and commercial centres. ... Paris is now a sprawling ... Paris is the capital of France, the largest country of Europe with 550 000 km2 (65 millions inhabitants). Paris has 2.234 million inhabitants end 2011. She is ... Paris, France - Intercultural City ... Paris is the capital and most populous city of France. Situated on the Seine River, in the north of the country, it is in ... 4 days ago ... Paris, city and capital of France, situated in the north-central part of the country. People were living on the site of the present-day city ... French Translation of “capital city” | The official Collins English-French Dictionary online. Over 100000 French translations of English words and phrases. In 1699, French explorers discovered the area where Baton Rouge is now located. ... Baton Rouge, Louisiana's capital city is now 74.74 square miles in size ... Nov 24, 2009 ... On July 8, 1951, Paris, the capital city of France, celebrates turning 2,000 years old. In fact, a few more candles would've technically ... The city of Paris is built along a bend in the River Seine, between the confluence of ... A large number of major monuments of the French capital are built ... Sep 25, 2021 ... GRASSE, France — The town of Grasse sits in the hills above the more famous French Riviera city of Cannes, and it doesn't have the ...\u001b[0m\n",
      "Thought:\u001b[32;1m\u001b[1;3m I now know the final answer.\n",
      "Final Answer: Paris is the capital city of France.\u001b[0m\n",
      "\n",
      "\u001b[1m> Finished chain.\u001b[0m\n"
     ]
    },
    {
     "data": {
      "text/plain": [
       "'Paris is the capital city of France.'"
      ]
     },
     "execution_count": 169,
     "metadata": {},
     "output_type": "execute_result"
    }
   ],
   "source": [
    "response = agent({\"input\":\"What is the capital city of France?\"})\n",
    "response['output']"
   ]
  },
  {
   "cell_type": "code",
   "execution_count": 172,
   "id": "30b10f53",
   "metadata": {},
   "outputs": [
    {
     "name": "stdout",
     "output_type": "stream",
     "text": [
      "\n",
      "\n",
      "\u001b[1m> Entering new AgentExecutor chain...\u001b[0m\n",
      "\u001b[32;1m\u001b[1;3m I need to find out when the next Solar eclipse is\n",
      "Action: Google Search\n",
      "Action Input: \"next Solar eclipse\"\u001b[0m\n",
      "Observation: \u001b[36;1m\u001b[1;3mApr 8, 2024 ... A total solar eclipse happens when the Moon passes between the Sun and Earth, completely blocking the face of the Sun. The sky will darken as if ... Featured Eclipses in Coming Years · 1Oct 14, 2023Annular Solar Eclipse · 2Apr 8, 2024Total Solar Eclipse · 3Oct 2, 2024Annular Solar Eclipse · 4Feb 17, 2026Annular ... Apr 8, 2024 ... The total solar eclipse will begin over the South Pacific Ocean. Weather permitting, the first location in continental North America that will ... On April 8, 2024, the shadow of the Moon will cross Mexico, the United States, and Canada. This spectacular total solar eclipse will amaze many millions of ... Get Ready for These Upcoming Eclipses in the United States! · October 14, 2023 · October 14, 2023 · April 8, 2024 · April 8, 2024 · October 14, 2023 · April 8, 2024. Apr 20, 2023 ... The next solar eclipse will be an annular or \"ring of fire\" solar eclipse on Oct. 14, 2023 and will be visible across North America, ... Apr 19, 2023 ... On April 19 (in the US) / April 20 (Australia), the Moon will pass between the Sun and Earth, creating a total solar eclipse visible from ... Feb 20, 2023 ... A total solar eclipse occurs when the moon passes between the sun and Earth, completely obscuring the face of the sun. These solar eclipses ... Aug 27, 2016 ... NASA Solar Eclipse Publications Online · NASA TP2008-14171: Annular and Total Solar Eclipses of 2010 · NASA TP2008-14169: Total Solar Eclipse of ... Apr 29, 2022 ... After the total solar eclipse of August 21, 2017, the next total solar eclipse to cross the North American continent will be on April 8, ...\u001b[0m\n",
      "Thought:\u001b[32;1m\u001b[1;3m I need to calculate the number of days between now and the next Solar eclipse\n",
      "Action: Wolfram Alpha\n",
      "Action Input: \"days between now and April 8, 2024\"\u001b[0m\n",
      "Observation: \u001b[33;1m\u001b[1;3mAssumption: days from | current time to Monday, April 8, 2024 \n",
      "Answer: 321.1 days\u001b[0m\n",
      "Thought:\u001b[32;1m\u001b[1;3m I now know the final answer\n",
      "Final Answer: 321.1 days\u001b[0m\n",
      "\n",
      "\u001b[1m> Finished chain.\u001b[0m\n"
     ]
    },
    {
     "data": {
      "text/plain": [
       "'321.1 days'"
      ]
     },
     "execution_count": 172,
     "metadata": {},
     "output_type": "execute_result"
    }
   ],
   "source": [
    "response = agent({\"input\":\"Calculate how many days until the next Solar exclipse?\"})\n",
    "response['output']"
   ]
  },
  {
   "cell_type": "markdown",
   "id": "f9152f35",
   "metadata": {},
   "source": [
    "You can see the simple question which can be done with simply google search, the agent can complete the task perfectly. On the more complex task that require more than google search, but also calculations that's outside of what google does, the agent then invokes Wolfram Alpha as you can see from the chain of thoughts.\n",
    "\n",
    "This is truly a reflection of what `LangChain` is, i.e. a chain of tasks. With this ability, you can create tools like [BabyAGI](https://github.com/yoheinakajima/babyagi) or [AutoGPT](https://github.com/Significant-Gravitas/Auto-GPT), the only limit is the number of tokens, the OpenAI quota and your imagination!"
   ]
  },
  {
   "cell_type": "markdown",
   "id": "8547dbd5",
   "metadata": {},
   "source": [
    "## Final Thoughts\n",
    "\n",
    "Congratulations on making it all the way to the end, I hope you enjoy this exercise and learn about the foundamental principles and capabilities of LangChain. And ready to crack on building!!!\n",
    "\n",
    "Checkout other learnings and resources I shared in my GitHub repo.\n",
    "\n",
    "If you'd like to share your questions and feedback, or keen to get involved in building, you can reach out to me directly on [Twitter](https://twitter.com/mlin6436) and [LinkedIn](https://www.linkedin.com/in/mlin6436/)!"
   ]
  }
 ],
 "metadata": {
  "kernelspec": {
   "display_name": "Python 3 (ipykernel)",
   "language": "python",
   "name": "python3"
  },
  "language_info": {
   "codemirror_mode": {
    "name": "ipython",
    "version": 3
   },
   "file_extension": ".py",
   "mimetype": "text/x-python",
   "name": "python",
   "nbconvert_exporter": "python",
   "pygments_lexer": "ipython3",
   "version": "3.10.11"
  }
 },
 "nbformat": 4,
 "nbformat_minor": 5
}
