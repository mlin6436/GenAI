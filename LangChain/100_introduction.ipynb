{
 "cells": [
  {
   "cell_type": "markdown",
   "id": "0d1a42a8",
   "metadata": {},
   "source": [
    "Welcome to this page, this is a series of tutorials to [LangChain](https://docs.langchain.com/docs/)."
   ]
  },
  {
   "cell_type": "markdown",
   "id": "2808256e",
   "metadata": {},
   "source": [
    "# What is LangChain?"
   ]
  },
  {
   "cell_type": "markdown",
   "id": "b5399cfe",
   "metadata": {},
   "source": [
    "LangChain is an open-source framework for building applications using large language models (LLMs)."
   ]
  },
  {
   "cell_type": "markdown",
   "id": "aef78d48",
   "metadata": {},
   "source": [
    "# Why LangChain?"
   ]
  },
  {
   "cell_type": "markdown",
   "id": "a02055f7",
   "metadata": {},
   "source": [
    "- **Data-aware**: LangChain applications can connect and interact with various data sources, including databases, APIs, and files, allowing them to incorporate and process external data.\n",
    "- **Agentic**: LangChain applications are designed to interact with their environment, they can take actions based on inputs from users or other systems.\n",
    "- **Extensible**: LangChain is built on a modular architecture, enabling users to extend and customise components to meet their specific use cases.\n",
    "- **Open-source**: LangChain is an open-source project, with active support and contribution from its community."
   ]
  },
  {
   "cell_type": "markdown",
   "id": "9c9294f0",
   "metadata": {},
   "source": [
    "# Useful links and resources"
   ]
  },
  {
   "cell_type": "markdown",
   "id": "a616f1e4",
   "metadata": {},
   "source": [
    "- [Twitter](https://twitter.com/LangChainAI)\n",
    "- [Discord](https://discord.gg/cU2adEyC7w)\n",
    "- [GitHub Python](https://github.com/hwchase17/langchain)\n",
    "- [GitHub JS/TS](https://github.com/hwchase17/langchainjs)\n",
    "- [Concepts Documentations](https://docs.langchain.com/docs/)\n",
    "- [Python Documentations](https://python.langchain.com/en/latest/)\n",
    "- [JS/TS Documentations](https://js.langchain.com/docs/)\n",
    "- [Blog](https://blog.langchain.dev/)\n",
    "- [Homepage](https://langchain.com/)"
   ]
  },
  {
   "cell_type": "markdown",
   "id": "6be8b08c",
   "metadata": {},
   "source": [
    "_Disclaimer: This exercise aims to cover the most representative scenarios and use cases. For more specific cases, make sure to check out the documents or source code linked above._"
   ]
  },
  {
   "cell_type": "markdown",
   "id": "befa1b6c",
   "metadata": {},
   "source": [
    "# Set up"
   ]
  },
  {
   "cell_type": "markdown",
   "id": "eca0f53d",
   "metadata": {},
   "source": [
    "Before heading over the instructions and code examples, let's spend some time to make sure you have the appropriate setup. I will show you how to setup local environment with OpenAI, you can also refer to other sections of this repository if you were using other LLMs, such as Azure OpenAI, Vertex AI, etc."
   ]
  },
  {
   "cell_type": "markdown",
   "id": "55accc03",
   "metadata": {},
   "source": [
    "## Create and retrieve API key"
   ]
  },
  {
   "cell_type": "markdown",
   "id": "2ad02ba8",
   "metadata": {},
   "source": [
    "First you need to create and retrieve your API key from [OpenAI](https://platform.openai.com/account/api-keys). Make sure to make a note of the API key after you have created a key.\n",
    "\n",
    "![openai_api_key](openai_api_key.png)"
   ]
  },
  {
   "cell_type": "markdown",
   "id": "583d0e3d",
   "metadata": {},
   "source": [
    "## Setup API key"
   ]
  },
  {
   "cell_type": "markdown",
   "id": "80fb828f",
   "metadata": {},
   "source": [
    "Then insert the api key into `.env` file using this command ```echo \"OPENAI_API_KEY='your-api-key'\" >> ~/.env```"
   ]
  },
  {
   "cell_type": "markdown",
   "id": "a6bd2def",
   "metadata": {},
   "source": [
    "## Install Python"
   ]
  },
  {
   "cell_type": "markdown",
   "id": "be8b8398",
   "metadata": {},
   "source": [
    "As the instruction is written in Python, make sure you have Python setup, easiest way to get started is ```brew install python@3.10```.\n",
    "\n",
    "Also note that, when the instruction starts with something like ```from langchain.schema import Document```, as you may not have `langchain` installed locally yet, run ```pip install langchain``` or ```pip install <missing package>``` whenever you were prompted so by the compiler."
   ]
  },
  {
   "cell_type": "markdown",
   "id": "79e3723d",
   "metadata": {},
   "source": [
    "# Final Thoughts\n",
    "\n",
    "Now you've got the environment setup, head straight to Components where I will kick start by walking you through the fundamental building blocks of LangChain.\n",
    "\n",
    "Checkout other learnings and resources I shared in my [GitHub](https://github.com/mlin6436/GenAI).\n",
    "\n",
    "If you'd like to share your questions and feedback, or keen to get involved in building, you can reach out to me directly on [Twitter](https://twitter.com/mlin6436) and [LinkedIn](https://www.linkedin.com/in/mlin6436/)!"
   ]
  }
 ],
 "metadata": {
  "kernelspec": {
   "display_name": "Python 3 (ipykernel)",
   "language": "python",
   "name": "python3"
  },
  "language_info": {
   "codemirror_mode": {
    "name": "ipython",
    "version": 3
   },
   "file_extension": ".py",
   "mimetype": "text/x-python",
   "name": "python",
   "nbconvert_exporter": "python",
   "pygments_lexer": "ipython3",
   "version": "3.10.11"
  }
 },
 "nbformat": 4,
 "nbformat_minor": 5
}
