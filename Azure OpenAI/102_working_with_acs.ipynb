{
 "cells": [
  {
   "cell_type": "markdown",
   "id": "3912021d-16e3-40f0-a8c1-49f0cfab5107",
   "metadata": {},
   "source": [
    "# Import required libraries"
   ]
  },
  {
   "cell_type": "code",
   "execution_count": 13,
   "id": "ae74e341-72ca-4d81-9a93-36e4b4ad56cf",
   "metadata": {},
   "outputs": [],
   "source": [
    "import dotenv\n",
    "import openai\n",
    "import os\n",
    "from langchain.embeddings import OpenAIEmbeddings\n",
    "from langchain.vectorstores.azuresearch import AzureSearch"
   ]
  },
  {
   "cell_type": "markdown",
   "id": "53d232af-2f62-48e0-b0d0-babab38483a2",
   "metadata": {},
   "source": [
    "# Configure OpenAI settings"
   ]
  },
  {
   "cell_type": "code",
   "execution_count": 21,
   "id": "78b99f45-c08c-47f7-9c9e-f9c0ace827cb",
   "metadata": {},
   "outputs": [],
   "source": [
    "dotenv.load_dotenv()\n",
    "openai.api_type = \"azure\"\n",
    "openai.api_version = \"2023-05-15\" \n",
    "openai.api_base = os.getenv(\"AZURE_OPENAI_API_BASE\")\n",
    "openai.api_key = os.getenv(\"AZURE_OPENAI_API_KEY\")\n",
    "model = \"text-embedding-ada-002\""
   ]
  },
  {
   "cell_type": "markdown",
   "id": "e895266a-14e9-4533-9d95-7c9a04f83aad",
   "metadata": {},
   "source": [
    "# Configure vector store settings"
   ]
  },
  {
   "cell_type": "code",
   "execution_count": 23,
   "id": "62fd1cb2-e929-4147-98c6-4160d63e1417",
   "metadata": {},
   "outputs": [],
   "source": [
    "vector_store_address = os.getenv(\"AZURE_COGNITIVE_SEARCH_URL\")\n",
    "vector_store_password = os.getenv(\"AZURE_COGNITIVE_SEARCH_KEY\")"
   ]
  },
  {
   "cell_type": "markdown",
   "id": "d7f1a7cb-80bd-4aa3-8693-03f88ab3b5c8",
   "metadata": {},
   "source": [
    "# Create embeddings and vector store instances"
   ]
  },
  {
   "cell_type": "code",
   "execution_count": 25,
   "id": "f1955107-5093-4e76-ad0b-3ec77a0822f3",
   "metadata": {},
   "outputs": [],
   "source": [
    "embeddings = OpenAIEmbeddings(deployment=model, chunk_size=1)\n",
    "index_name = \"acs-demo\"\n",
    "vector_store = AzureSearch(\n",
    "    azure_search_endpoint=vector_store_address,\n",
    "    azure_search_key=vector_store_password,\n",
    "    index_name=index_name,\n",
    "    embedding_function=embeddings.embed_query,\n",
    ")"
   ]
  },
  {
   "cell_type": "markdown",
   "id": "9a58e2f3-58ae-4f57-95ee-3e9c0d95501e",
   "metadata": {},
   "source": [
    "# Insert text and embeddings into vector store"
   ]
  },
  {
   "cell_type": "code",
   "execution_count": 28,
   "id": "34de7d68-962d-4084-9435-154c91111b09",
   "metadata": {},
   "outputs": [
    {
     "data": {
      "text/plain": [
       "['ZDAxMzM3MjctYTJhZi00YzBkLTgxNzctYzA0MDBkMTdlOTg2',\n",
       " 'MjdmOWU0ZjktMTkzYi00ZjZkLWJlMWEtNDI0OTAxZTMyNzcw',\n",
       " 'MjQ2ZmJlZjAtMTg4NS00YTNmLWIxOTEtM2EzZDlkY2ViYjQ0',\n",
       " 'YjA1ZGNlNmQtNjEzYi00OWM5LTlmYmQtOWU4YjYzNzNmNmI4',\n",
       " 'NTkxOWJmYzktOWVhZi00OTdmLTlhMTYtN2FjYTRlYmM4NWYx',\n",
       " 'N2U1NzczOTQtNTIzNy00ODNhLWI4YWYtNjE2NGJlY2JjYjcy',\n",
       " 'YTQxOGUwNDUtNDVmNS00MTg4LWIxODctODUwZmIyOTc1MWEy',\n",
       " 'ZmI3YTM1MDItMzkzZS00NmFlLWE4NWUtNjUwYjBlM2IwNWNi',\n",
       " 'NzYyMTM4ZjgtMDNlMi00OWIzLTgyZDctNTBjMTMyYzJmYTNi',\n",
       " 'MDlkZTFmNDYtMTRlYS00YjYzLTgyZTgtMDBhZmE1NjhmZWZi',\n",
       " 'ZDE0ZGMzOWYtYzA1Mi00Njc0LWEwM2MtNGZlNTdhMmE5OTAw',\n",
       " 'YjNhYTkxMzctYjMwMi00NWIzLTkxZmQtYWUyYWQ2N2RhYjY1',\n",
       " 'MzlkMjQ4NmQtOTk1NS00NzBjLWExN2UtYmQ0MTFlN2U3M2U0',\n",
       " 'ZDc4NTlhODEtNjljNS00ZjdhLTlmNzQtNDQxYTM5ZTg1Mzk2',\n",
       " 'NjhhM2FlZmYtNDk4Yi00N2RiLTkyMWUtNzlkODRmYzUwMjA4',\n",
       " 'YjViM2UyODUtMWRhZC00NjNkLTlhMGMtN2NhMjZiYmZmZTlk',\n",
       " 'NmQ3MDRhMzMtNmEwMy00MzhiLTllOGQtODQ5NmVjZGM2YmJh',\n",
       " 'NjY4OGM3MzEtZjdjZC00ZTRhLWIxYWYtNmVkMTA5ZDY2OTcy',\n",
       " 'MzI2ZjA0OTMtMWY2MS00MGJjLTg0N2YtZDNmZGE0NDgyYTFk',\n",
       " 'NDNiODY3YjYtNGNjYy00NzMzLWE3MTAtM2E5YzkzMjA2NDAw',\n",
       " 'ZTk4MDZiNjQtOGUxNy00NDNiLTljZmMtY2NhOGQ1ZTA4MDA4',\n",
       " 'NzUxZjhlYzgtNjE2Mi00YTQyLTkxNzAtYmQ2ODcwZDViMDhk',\n",
       " 'Y2Q3MzdjZjUtZjNhYi00NzFiLThlNDQtYzg2MmRiMzU1Zjk2',\n",
       " 'NmZjOTZjZTktYzhlMi00YmZiLTlmNDEtNDU1M2RkMjU2MzEy',\n",
       " 'YTFlOWI3MmEtMDMxNi00NmVjLTg5YjYtMGRlNmQ5ZGI5YjVi',\n",
       " 'ODc1ZmI3ZjAtYTM1My00NzQxLWJiYmItYzk3YmQxZWNhYTc2',\n",
       " 'NWIwMmJiZDktMGU2MS00ZGJmLTk1MDMtY2ZiZjM3ZWZhZGRk',\n",
       " 'MWU5MDkwYzUtOTc0ZS00Njk0LWJiMzYtNmY3MDAxOGY3MzI3',\n",
       " 'Yzc2MDU5ZTQtYWY2Yi00MjllLWEyMjQtOTJlMjc3OTBjMjM5',\n",
       " 'NDU3ZDhlYjEtMDhmMi00N2M0LWFkYzAtODY0ODBiY2U1Yzhi',\n",
       " 'NWIxZDEyZDktMjJmMi00NTJlLWI0OTEtOGE1ODZlMjlhZWIy',\n",
       " 'NTQzY2NkM2YtMGI3Zi00MzNlLWI0YTYtMzk0NmUyZGM4OGY5',\n",
       " 'YWEwZThhMGMtZTVmMC00YzA4LWExNzMtNDUzNmIxOGQ5ZjZm',\n",
       " 'ODIxMjRhMzMtNjdmYi00NTM3LWFiN2EtZWVlOTEyYmNmZGY2',\n",
       " 'YzQzODQyZDEtYzgyNC00ZDUyLWI0ZmMtNmU0MTdlOWIyMTZh',\n",
       " 'MmEwNGRkNWYtMDNmMS00ODBlLWE1NTMtN2U3ZDU0MzViOTdm',\n",
       " 'NzI0MTYzZTQtMjg0NS00YzgyLTlhYzItOWY2ZWVlNDliMjZl',\n",
       " 'MjEyMTZjNzYtZDliNy00NzUwLWJiMGMtNDRhYmIxN2E0ZDI1',\n",
       " 'MDA2YzYyOTYtMDc2OC00ZjdkLWE4NzMtNGZjNzBkMGIwZDEz',\n",
       " 'NDgzMjM2OTMtYjI4OC00ZTVjLWExNTMtOWZmMjJkNTA0NjBl',\n",
       " 'NjdjZTY4ODQtMzdmZC00ZjhhLWE1NzItMDY1ZmVkNTFkNjc4',\n",
       " 'MWIzMjM3N2UtYmFhNi00MWUxLWIxNjUtNzVkMTRiNTYyY2Fm']"
      ]
     },
     "execution_count": 28,
     "metadata": {},
     "output_type": "execute_result"
    }
   ],
   "source": [
    "from langchain.document_loaders import TextLoader\n",
    "from langchain.text_splitter import CharacterTextSplitter\n",
    "\n",
    "loader = TextLoader(\"state_of_the_union.txt\", encoding=\"utf-8\")\n",
    "\n",
    "documents = loader.load()\n",
    "text_splitter = CharacterTextSplitter(chunk_size=1000, chunk_overlap=0)\n",
    "docs = text_splitter.split_documents(documents)\n",
    "\n",
    "vector_store.add_documents(documents=docs)"
   ]
  },
  {
   "cell_type": "markdown",
   "id": "d87cd081-e86a-455a-adba-37205d67e8a4",
   "metadata": {},
   "source": [
    "# Perform a vector similarity search"
   ]
  },
  {
   "cell_type": "code",
   "execution_count": 29,
   "id": "a3bc7187-2c5c-4519-bc0b-a48d8b434bbb",
   "metadata": {},
   "outputs": [
    {
     "name": "stdout",
     "output_type": "stream",
     "text": [
      "Tonight. I call on the Senate to: Pass the Freedom to Vote Act. Pass the John Lewis Voting Rights Act. And while you’re at it, pass the Disclose Act so Americans can know who is funding our elections. \n",
      "\n",
      "Tonight, I’d like to honor someone who has dedicated his life to serve this country: Justice Stephen Breyer—an Army veteran, Constitutional scholar, and retiring Justice of the United States Supreme Court. Justice Breyer, thank you for your service. \n",
      "\n",
      "One of the most serious constitutional responsibilities a President has is nominating someone to serve on the United States Supreme Court. \n",
      "\n",
      "And I did that 4 days ago, when I nominated Circuit Court of Appeals Judge Ketanji Brown Jackson. One of our nation’s top legal minds, who will continue Justice Breyer’s legacy of excellence.\n"
     ]
    }
   ],
   "source": [
    "docs = vector_store.similarity_search(\n",
    "    query=\"What did the president say about Ketanji Brown Jackson\",\n",
    "    k=3,\n",
    "    search_type=\"similarity\",\n",
    ")\n",
    "print(docs[0].page_content)"
   ]
  },
  {
   "cell_type": "code",
   "execution_count": null,
   "id": "c07a305d-38df-4369-871c-776b853af032",
   "metadata": {},
   "outputs": [],
   "source": []
  }
 ],
 "metadata": {
  "kernelspec": {
   "display_name": "Python 3 (ipykernel)",
   "language": "python",
   "name": "python3"
  },
  "language_info": {
   "codemirror_mode": {
    "name": "ipython",
    "version": 3
   },
   "file_extension": ".py",
   "mimetype": "text/x-python",
   "name": "python",
   "nbconvert_exporter": "python",
   "pygments_lexer": "ipython3",
   "version": "3.10.13"
  }
 },
 "nbformat": 4,
 "nbformat_minor": 5
}
