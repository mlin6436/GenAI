{
 "cells": [
  {
   "cell_type": "markdown",
   "id": "672a2d4d",
   "metadata": {},
   "source": [
    "# 0.1 Install ACS SDK"
   ]
  },
  {
   "cell_type": "code",
   "execution_count": null,
   "id": "3c98c10a",
   "metadata": {},
   "outputs": [],
   "source": [
    "!pip install azure-search-documents==11.4.0b8\n",
    "!pip install azure-identity"
   ]
  },
  {
   "cell_type": "markdown",
   "id": "3912021d-16e3-40f0-a8c1-49f0cfab5107",
   "metadata": {},
   "source": [
    "# 0.2 Import libraries"
   ]
  },
  {
   "cell_type": "code",
   "execution_count": 3,
   "id": "ae74e341-72ca-4d81-9a93-36e4b4ad56cf",
   "metadata": {},
   "outputs": [],
   "source": [
    "import dotenv\n",
    "import openai\n",
    "import os\n",
    "from langchain.embeddings import OpenAIEmbeddings\n",
    "from langchain.vectorstores.azuresearch import AzureSearch"
   ]
  },
  {
   "cell_type": "markdown",
   "id": "53d232af-2f62-48e0-b0d0-babab38483a2",
   "metadata": {},
   "source": [
    "# 0.3.1 Configure OpenAI settings (API key based)"
   ]
  },
  {
   "cell_type": "code",
   "execution_count": 4,
   "id": "78b99f45-c08c-47f7-9c9e-f9c0ace827cb",
   "metadata": {},
   "outputs": [],
   "source": [
    "dotenv.load_dotenv()\n",
    "openai.api_type = \"azure\"\n",
    "openai.api_version = \"2023-05-15\" \n",
    "openai.api_base = os.getenv(\"AZURE_OPENAI_API_BASE\")\n",
    "openai.api_key = os.getenv(\"AZURE_OPENAI_API_KEY\")"
   ]
  },
  {
   "cell_type": "markdown",
   "id": "7787d6be",
   "metadata": {},
   "source": [
    "# 0.3.2 Configure OpenAI settings (role based)"
   ]
  },
  {
   "cell_type": "code",
   "execution_count": null,
   "id": "9125d49a",
   "metadata": {},
   "outputs": [],
   "source": [
    "import openai\n",
    "from azure.identity import DefaultAzureCredential\n",
    "\n",
    "credential = DefaultAzureCredential()\n",
    "token = credential.get_token(\"https://cognitiveservices.azure.com/.default\")\n",
    "\n",
    "openai.api_type = \"azure_ad\"\n",
    "openai.api_key = token.token\n",
    "openai.api_base = \"https://dev-qia-design-review-automation-oai-eus.openai.azure.com/\"\n",
    "openai.api_version = \"2023-05-15\"  # subject to change"
   ]
  },
  {
   "cell_type": "markdown",
   "id": "d7f1a7cb-80bd-4aa3-8693-03f88ab3b5c8",
   "metadata": {},
   "source": [
    "# 1.1 Create embeddings and ACS instance (single file)"
   ]
  },
  {
   "cell_type": "code",
   "execution_count": 4,
   "id": "f1955107-5093-4e76-ad0b-3ec77a0822f3",
   "metadata": {},
   "outputs": [],
   "source": [
    "deployment_id = \"text-embedding-ada-002\"\n",
    "embeddings = OpenAIEmbeddings(\n",
    "    openai_api_key=openai.api_key,\n",
    "    deployment=deployment_id,\n",
    "    openai_api_type='azure',\n",
    "    chunk_size=1\n",
    ")\n",
    "\n",
    "vector_store_address = os.getenv(\"AZURE_COGNITIVE_SEARCH_URL\")\n",
    "vector_store_password = os.getenv(\"AZURE_COGNITIVE_SEARCH_KEY\")\n",
    "index_name = \"acs-demo\"\n",
    "vector_store = AzureSearch(\n",
    "    azure_search_endpoint=vector_store_address,\n",
    "    azure_search_key=vector_store_password,\n",
    "    index_name=index_name,\n",
    "    embedding_function=embeddings.embed_query,\n",
    ")"
   ]
  },
  {
   "cell_type": "markdown",
   "id": "9a58e2f3-58ae-4f57-95ee-3e9c0d95501e",
   "metadata": {},
   "source": [
    "# 1.2 Upload embeddings to ACS"
   ]
  },
  {
   "cell_type": "code",
   "execution_count": null,
   "id": "34de7d68-962d-4084-9435-154c91111b09",
   "metadata": {},
   "outputs": [],
   "source": [
    "from langchain.document_loaders import TextLoader\n",
    "from langchain.text_splitter import CharacterTextSplitter\n",
    "\n",
    "loader = TextLoader(\"state_of_the_union.txt\", encoding=\"utf-8\")\n",
    "\n",
    "documents = loader.load()\n",
    "text_splitter = CharacterTextSplitter(chunk_size=1000, chunk_overlap=0)\n",
    "docs = text_splitter.split_documents(documents)\n",
    "\n",
    "# vector_store.add_documents(documents=docs) # this step will upload embeddings to ACS"
   ]
  },
  {
   "cell_type": "markdown",
   "id": "d87cd081-e86a-455a-adba-37205d67e8a4",
   "metadata": {},
   "source": [
    "# 1.3 Perform a vector similarity search"
   ]
  },
  {
   "cell_type": "code",
   "execution_count": null,
   "id": "a3bc7187-2c5c-4519-bc0b-a48d8b434bbb",
   "metadata": {},
   "outputs": [],
   "source": [
    "docs = vector_store.similarity_search(\n",
    "    query=\"What did the president say about Ketanji Brown Jackson\",\n",
    "    k=3,\n",
    "    search_type=\"similarity\",\n",
    ")\n",
    "print(docs[0].page_content)"
   ]
  },
  {
   "cell_type": "markdown",
   "id": "dc7daeca-5903-4756-a979-dd5b3854cc2c",
   "metadata": {},
   "source": [
    "# 2.1 Create embeddings and ACS instance (multi-file)"
   ]
  },
  {
   "cell_type": "code",
   "execution_count": null,
   "id": "33696918-a1dc-4073-82eb-36208fffeff4",
   "metadata": {},
   "outputs": [],
   "source": [
    "deployment_id = \"text-embedding-ada-002\"\n",
    "embeddings = OpenAIEmbeddings(\n",
    "    openai_api_key=openai.api_key,\n",
    "    deployment=deployment_id,\n",
    "    openai_api_type='azure',\n",
    "    chunk_size=1\n",
    ")\n",
    "\n",
    "vector_store_address = os.getenv(\"AZURE_COGNITIVE_SEARCH_URL\")\n",
    "vector_store_password = os.getenv(\"AZURE_COGNITIVE_SEARCH_KEY\")\n",
    "index_name = \"acs-demo-multi-file\"\n",
    "vector_store = AzureSearch(\n",
    "    azure_search_endpoint=vector_store_address,\n",
    "    azure_search_key=vector_store_password,\n",
    "    index_name=index_name,\n",
    "    embedding_function=embeddings.embed_query,\n",
    ")"
   ]
  },
  {
   "cell_type": "markdown",
   "id": "f2d8c046-3e84-4b77-af38-f37ee00f304c",
   "metadata": {},
   "source": [
    "# 2.2 Combine and upload multiple PDFs to ACS"
   ]
  },
  {
   "cell_type": "code",
   "execution_count": null,
   "id": "eb612f53-095f-4359-8645-75ccb2e390b2",
   "metadata": {},
   "outputs": [],
   "source": [
    "from langchain.document_loaders import PyMuPDFLoader\n",
    "from langchain.text_splitter import CharacterTextSplitter\n",
    "\n",
    "path = \"contents/\"\n",
    "loaders = [PyMuPDFLoader(os.path.join(path, fn)) for fn in os.listdir(path)]\n",
    "\n",
    "all_documents = []\n",
    "for loader in loaders:\n",
    "    raw_documents = loader.load()\n",
    "\n",
    "    text_splitter = CharacterTextSplitter(\n",
    "        chunk_size=2000,\n",
    "        chunk_overlap=200,\n",
    "        length_function=len,\n",
    "    )\n",
    "    documents = text_splitter.split_documents(raw_documents)\n",
    "    all_documents.extend(documents)\n",
    "\n",
    "vector_store.add_documents(documents=all_documents) # this step will upload embeddings to ACS"
   ]
  },
  {
   "cell_type": "markdown",
   "id": "8938331f-65cb-42f2-a37c-e639fdd6669e",
   "metadata": {},
   "source": [
    "# 2.3 Perform a query"
   ]
  },
  {
   "cell_type": "code",
   "execution_count": null,
   "id": "05e8b72f-8c96-4603-b719-d765dfd0c4d3",
   "metadata": {},
   "outputs": [],
   "source": [
    "from langchain import OpenAI\n",
    "from langchain.chains import RetrievalQA\n",
    "\n",
    "llm = OpenAI(\n",
    "    temperature = 0, \n",
    "    openai_api_key = openai.api_key, \n",
    "    engine=\"gpt-35-turbo\"\n",
    ")\n",
    "\n",
    "qa = RetrievalQA.from_chain_type(\n",
    "    llm = llm, \n",
    "    chain_type = \"stuff\", \n",
    "    retriever = vector_store.as_retriever()\n",
    ")\n",
    "qa.run(\"What is the scope of this project?\")"
   ]
  },
  {
   "cell_type": "markdown",
   "id": "6cc01211",
   "metadata": {},
   "source": [
    "# 3.1 Create embeddings and ACS instance (unstructured files)"
   ]
  },
  {
   "cell_type": "code",
   "execution_count": null,
   "id": "692c0c36",
   "metadata": {},
   "outputs": [],
   "source": [
    "deployment_id = \"text-embedding-ada-002\"\n",
    "embeddings = OpenAIEmbeddings(\n",
    "    openai_api_key=openai.api_key,\n",
    "    deployment=deployment_id,\n",
    "    openai_api_type='azure',\n",
    "    chunk_size=1\n",
    ")\n",
    "\n",
    "vector_store_address = os.getenv(\"AZURE_COGNITIVE_SEARCH_URL\")\n",
    "vector_store_password = os.getenv(\"AZURE_COGNITIVE_SEARCH_KEY\")\n",
    "index_name = \"acs-demo-unstructured-file\"\n",
    "vector_store = AzureSearch(\n",
    "    azure_search_endpoint=vector_store_address,\n",
    "    azure_search_key=vector_store_password,\n",
    "    index_name=index_name,\n",
    "    embedding_function=embeddings.embed_query,\n",
    ")"
   ]
  },
  {
   "cell_type": "markdown",
   "id": "e4a79d4b",
   "metadata": {},
   "source": [
    "# 3.2 Combine and upload multiple files to ACS"
   ]
  },
  {
   "cell_type": "code",
   "execution_count": null,
   "id": "55c649d1",
   "metadata": {},
   "outputs": [],
   "source": [
    "!pip install \"unstructured[all-docs]\""
   ]
  },
  {
   "cell_type": "code",
   "execution_count": null,
   "id": "2752079e",
   "metadata": {},
   "outputs": [],
   "source": [
    "from langchain.document_loaders import UnstructuredFileLoader\n",
    "from langchain.text_splitter import CharacterTextSplitter\n",
    "\n",
    "directory = \"contents/\"\n",
    "files = []\n",
    "\n",
    "for filename in os.listdir(directory):\n",
    "    filepath = os.path.join(directory, filename)\n",
    "    if os.path.isfile(filepath) and (filename.endswith('.pdf') or filename.endswith('.xlsx') or filename.endswith('.xlsm')):\n",
    "      files.append(filepath)\n",
    "    \n",
    "loaders = [UnstructuredFileLoader(file) for file in files]\n",
    "\n",
    "all_documents = []\n",
    "for loader in loaders:\n",
    "    raw_documents = loader.load()\n",
    "\n",
    "    text_splitter = CharacterTextSplitter(\n",
    "        chunk_size=2000,\n",
    "        chunk_overlap=200,\n",
    "        length_function=len,\n",
    "    )\n",
    "    \n",
    "    print(raw_documents[0].page_content[:100])\n",
    "    \n",
    "    documents = text_splitter.split_documents(raw_documents)\n",
    "    all_documents.extend(documents)\n",
    "\n",
    "# vector_store.add_documents(documents=all_documents) # this step will upload embeddings to ACS"
   ]
  }
 ],
 "metadata": {
  "kernelspec": {
   "display_name": "Python 3 (ipykernel)",
   "language": "python",
   "name": "python3"
  },
  "language_info": {
   "codemirror_mode": {
    "name": "ipython",
    "version": 3
   },
   "file_extension": ".py",
   "mimetype": "text/x-python",
   "name": "python",
   "nbconvert_exporter": "python",
   "pygments_lexer": "ipython3",
   "version": "3.10.11"
  }
 },
 "nbformat": 4,
 "nbformat_minor": 5
}
