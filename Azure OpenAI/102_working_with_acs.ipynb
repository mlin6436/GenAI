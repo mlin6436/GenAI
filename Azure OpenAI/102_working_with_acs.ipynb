{
 "cells": [
  {
   "cell_type": "markdown",
   "id": "3912021d-16e3-40f0-a8c1-49f0cfab5107",
   "metadata": {},
   "source": [
    "# Import required libraries"
   ]
  },
  {
   "cell_type": "code",
   "execution_count": 2,
   "id": "ae74e341-72ca-4d81-9a93-36e4b4ad56cf",
   "metadata": {},
   "outputs": [],
   "source": [
    "import dotenv\n",
    "import openai\n",
    "import os\n",
    "from langchain.embeddings import OpenAIEmbeddings\n",
    "from langchain.vectorstores.azuresearch import AzureSearch"
   ]
  },
  {
   "cell_type": "markdown",
   "id": "53d232af-2f62-48e0-b0d0-babab38483a2",
   "metadata": {},
   "source": [
    "# Configure OpenAI settings"
   ]
  },
  {
   "cell_type": "code",
   "execution_count": 17,
   "id": "78b99f45-c08c-47f7-9c9e-f9c0ace827cb",
   "metadata": {},
   "outputs": [],
   "source": [
    "dotenv.load_dotenv()\n",
    "openai.api_type = \"azure\"\n",
    "openai.api_version = \"2023-05-15\" \n",
    "openai.api_base = os.getenv(\"AZURE_OPENAI_API_BASE\")\n",
    "openai.api_key = os.getenv(\"AZURE_OPENAI_API_KEY\")\n",
    "model = \"text-embedding-ada-002\""
   ]
  },
  {
   "cell_type": "markdown",
   "id": "e895266a-14e9-4533-9d95-7c9a04f83aad",
   "metadata": {},
   "source": [
    "# Configure vector store settings"
   ]
  },
  {
   "cell_type": "code",
   "execution_count": 18,
   "id": "62fd1cb2-e929-4147-98c6-4160d63e1417",
   "metadata": {},
   "outputs": [],
   "source": [
    "vector_store_address = os.getenv(\"AZURE_COGNITIVE_SEARCH_URL\")\n",
    "vector_store_password = os.getenv(\"AZURE_COGNITIVE_SEARCH_KEY\")"
   ]
  },
  {
   "cell_type": "markdown",
   "id": "d7f1a7cb-80bd-4aa3-8693-03f88ab3b5c8",
   "metadata": {},
   "source": [
    "# Create embeddings and vector store instances"
   ]
  },
  {
   "cell_type": "code",
   "execution_count": 21,
   "id": "f1955107-5093-4e76-ad0b-3ec77a0822f3",
   "metadata": {},
   "outputs": [],
   "source": [
    "embeddings = OpenAIEmbeddings(\n",
    "    openai_api_key=openai.api_key,\n",
    "    deployment=model,\n",
    "    openai_api_type='azure',\n",
    "    chunk_size=1\n",
    ")\n",
    "index_name = \"acs-demo\"\n",
    "vector_store = AzureSearch(\n",
    "    azure_search_endpoint=vector_store_address,\n",
    "    azure_search_key=vector_store_password,\n",
    "    index_name=index_name,\n",
    "    embedding_function=embeddings.embed_query,\n",
    ")"
   ]
  },
  {
   "cell_type": "markdown",
   "id": "9a58e2f3-58ae-4f57-95ee-3e9c0d95501e",
   "metadata": {},
   "source": [
    "# Insert text and embeddings into vector store"
   ]
  },
  {
   "cell_type": "code",
   "execution_count": 22,
   "id": "34de7d68-962d-4084-9435-154c91111b09",
   "metadata": {},
   "outputs": [
    {
     "data": {
      "text/plain": [
       "['OTQ5YjRkMjAtOTFkMi00YTVhLTk1OWMtMjg4NDk5YWJhOTQ0',\n",
       " 'NTk0ZTRkM2MtZDVkNi00OGVmLWI5NTEtYzBhZjIzMDE0ODA1',\n",
       " 'MDlmZDViMjAtNjY2OC00YWNiLTg0OGItN2U1ZThlNjk2MTg0',\n",
       " 'MmM3NWY0ZDUtMzVlMS00MWNkLTlkZTctZDgyYjQ0NDJhNzNm',\n",
       " 'ZjkyNmQwNTUtODhmZS00ZDUyLTgzMjItNWEyMzI5ZmQ3NDFm',\n",
       " 'OTk4MGVlNzctNGM4YS00MjNhLWJhNGMtMjJlNTJlY2U3MjY0',\n",
       " 'NWM2OWNjMzUtNTkyYi00NGVhLTg3NTktZmI0NGRlOTAzNzEx',\n",
       " 'NDk1MzQxZjctZTUzNy00NWUwLThiZDctYjE5MTYxZjI3YTQw',\n",
       " 'MTdkYjNiNTQtMjExOC00YzRiLWJjZTEtYzNhMjdiYmMxYzgy',\n",
       " 'OThjOTY0NzQtNjNmNy00YWMzLThiZjctY2U3Yzc4ZmUyNTA0',\n",
       " 'ODY0ODQyN2YtN2IwNy00YWViLWFhMmItOTRiOWE1ZDIxNWEy',\n",
       " 'MWVkZDJiNTUtMjBjMy00MmQ0LWE0NjQtMzVjYjIwMDcxOWVk',\n",
       " 'ZjhjYWMwYjgtOTQ0MS00ZmRhLWIyMTktMDIwNTcxYjJkZDQ0',\n",
       " 'OTgyMzJiYjgtY2Q2Mi00NjBjLWJkZTMtNzgwYTliMWI1OTc1',\n",
       " 'Nzc2ZDA1NjktMDEzNS00NTNhLTg3Y2QtYmNiNmEyZWU0YmQ1',\n",
       " 'ZDcxZmUwOWMtOTAwOC00YzM2LTljMWQtMmNkYTM0NzJiOGM3',\n",
       " 'M2FlZWQyMzctMWNjYi00NGY3LWI4NzktNWUzYjY4Yjk0ODk2',\n",
       " 'Yjg1ODUxY2MtZTgxZC00ODY1LTljNjYtZjgzNWIwZWUwYWEz',\n",
       " 'ZjE1MjQ2MDMtN2U0ZS00ZmU3LWFiNzEtOTk2YmMwOTc2Zjg4',\n",
       " 'M2M1ZmI2MGItZTQxNy00MGU5LWIwYWUtN2UwNzY0MDIzNTkz',\n",
       " 'OTBhNjhlYjAtNGE4ZS00Y2ZlLWE1NjQtODE1ZWUwZmI0Y2Fl',\n",
       " 'OGVjM2E4MDMtZmNkMy00ZjhlLTgyMTAtYTcxYjAxOGJhYTA0',\n",
       " 'YzM2OWRmNjAtOTM0OS00MGRkLTk3MGItZjhjZWIyM2ZlMjhi',\n",
       " 'YTdjZTkxMDItZTkyNC00N2NkLWE5OTItNWU0ZTQxNzY2Zjc2',\n",
       " 'NjFiZTc4ODktYjlkOC00YTU0LTliMTgtZjIzZjVjZmYxNzUw',\n",
       " 'ZWQ1MDhjNTMtY2VlMS00OGY1LTkzMTUtYWIyYTY4ZmQzMDZh',\n",
       " 'MjQzNGQ2N2UtZDEzYi00ZDgyLWE2MTEtNDQ3OGFlNTk3MjFl',\n",
       " 'YjFmZDA1NGUtNjU1Mi00MTMzLWJiM2YtNGRiZWY4MzQ2MDgy',\n",
       " 'ZmE5ODM4MDEtNDdlYS00OTIxLTk5NTAtMzczNDNmNWExYWYx',\n",
       " 'NzgxN2U5M2ItNjgzZC00NWFlLTgyYWUtZWNkODRiMWNiMGFm',\n",
       " 'Y2RkNDdmODctYmQ3OC00MTliLWI2ZTItOGVkMjViMjdmOWQ2',\n",
       " 'MmY1NDY4MTEtYTY1ZS00MDVmLWEyMGYtOWFhZjI4MjZhMzdi',\n",
       " 'NTI3ZTNmMjktYjNkMC00NDcwLWEwOTUtNWFiNGEzZTgxYTI3',\n",
       " 'ZTYzN2YwZTctZTcxNi00NWM1LTk0YWQtZTExY2RjZGI1ZDQz',\n",
       " 'MzYxODc1N2UtNWU2Yi00YmYyLWJlNWYtMmM3ZmIyY2M5Nzdj',\n",
       " 'M2E0ZGYwOWEtMzY3ZC00OWFmLThlNzktNDJmZDFkN2YwNzE5',\n",
       " 'YTYwMmE0YzQtNjNlNC00YzZlLThhYzgtMWYwNWZmZjExMzNh',\n",
       " 'ZTY3MjMwMDgtM2FiYy00MjVhLWExMzktZDNkNmY1Njc4ZTFl',\n",
       " 'MzQ1YWIyYWUtNDMxMi00ZTllLWE4NzYtYjhlYWMyNzJkMTdk',\n",
       " 'YjI5ZjI0YzQtYjU2Yi00ZTRiLTlkMzgtODUxOWQ4ZTNjNzgy',\n",
       " 'OWNjZGYxNWQtZDgxNS00OGM4LWJjMDUtNjc1OGJmODIyNmM5',\n",
       " 'MTMzMmVkNDYtZThjYi00YTkxLWIzYjQtMmM5OTUxZGJkYTI2']"
      ]
     },
     "execution_count": 22,
     "metadata": {},
     "output_type": "execute_result"
    }
   ],
   "source": [
    "from langchain.document_loaders import TextLoader\n",
    "from langchain.text_splitter import CharacterTextSplitter\n",
    "\n",
    "loader = TextLoader(\"state_of_the_union.txt\", encoding=\"utf-8\")\n",
    "\n",
    "documents = loader.load()\n",
    "text_splitter = CharacterTextSplitter(chunk_size=1000, chunk_overlap=0)\n",
    "docs = text_splitter.split_documents(documents)\n",
    "\n",
    "vector_store.add_documents(documents=docs)"
   ]
  },
  {
   "cell_type": "markdown",
   "id": "d87cd081-e86a-455a-adba-37205d67e8a4",
   "metadata": {},
   "source": [
    "# Perform a vector similarity search"
   ]
  },
  {
   "cell_type": "code",
   "execution_count": 23,
   "id": "a3bc7187-2c5c-4519-bc0b-a48d8b434bbb",
   "metadata": {},
   "outputs": [
    {
     "name": "stdout",
     "output_type": "stream",
     "text": [
      "Tonight. I call on the Senate to: Pass the Freedom to Vote Act. Pass the John Lewis Voting Rights Act. And while you’re at it, pass the Disclose Act so Americans can know who is funding our elections. \n",
      "\n",
      "Tonight, I’d like to honor someone who has dedicated his life to serve this country: Justice Stephen Breyer—an Army veteran, Constitutional scholar, and retiring Justice of the United States Supreme Court. Justice Breyer, thank you for your service. \n",
      "\n",
      "One of the most serious constitutional responsibilities a President has is nominating someone to serve on the United States Supreme Court. \n",
      "\n",
      "And I did that 4 days ago, when I nominated Circuit Court of Appeals Judge Ketanji Brown Jackson. One of our nation’s top legal minds, who will continue Justice Breyer’s legacy of excellence.\n"
     ]
    }
   ],
   "source": [
    "docs = vector_store.similarity_search(\n",
    "    query=\"What did the president say about Ketanji Brown Jackson\",\n",
    "    k=3,\n",
    "    search_type=\"similarity\",\n",
    ")\n",
    "print(docs[0].page_content)"
   ]
  },
  {
   "cell_type": "code",
   "execution_count": null,
   "id": "c07a305d-38df-4369-871c-776b853af032",
   "metadata": {},
   "outputs": [],
   "source": []
  }
 ],
 "metadata": {
  "kernelspec": {
   "display_name": "Python 3 (ipykernel)",
   "language": "python",
   "name": "python3"
  },
  "language_info": {
   "codemirror_mode": {
    "name": "ipython",
    "version": 3
   },
   "file_extension": ".py",
   "mimetype": "text/x-python",
   "name": "python",
   "nbconvert_exporter": "python",
   "pygments_lexer": "ipython3",
   "version": "3.10.13"
  }
 },
 "nbformat": 4,
 "nbformat_minor": 5
}
