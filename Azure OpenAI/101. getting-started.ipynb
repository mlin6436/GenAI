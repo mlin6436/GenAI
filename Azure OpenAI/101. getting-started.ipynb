{
 "cells": [
  {
   "cell_type": "markdown",
   "id": "b590cbc0",
   "metadata": {},
   "source": [
    "# Getting Started with Azure OpenAI\n",
    "\n",
    "This notebook aims to walk you through the basic steps required to have an Azure OpenAI resource setup and running.\n",
    "\n",
    "**What is Azure OpenAI**\n",
    "\n",
    "Azure OpenAI is Microsoft's offering that provdes REST API access to OpenAI's LLMs, most notably GPT-4 and ChatGPT (gpt-35-turbo). "
   ]
  },
  {
   "cell_type": "markdown",
   "id": "32467c9b",
   "metadata": {},
   "source": [
    "## Create Azure OpenAI Resource\n",
    "\n",
    "Search for \"Azure OpenAI\" in Azure searchbar and follow the steps to create an \"Azure OpenAI\" resource.\n",
    "\n",
    "![create-resource](create-resource.png)"
   ]
  },
  {
   "cell_type": "markdown",
   "id": "13287c73",
   "metadata": {},
   "source": [
    "## Deploy Model(s)\n",
    "\n",
    "Once \"Azure OpenAI\" resource has been created, click on \"Deploy\" in \"Overview\".\n",
    "\n",
    "![deploy-model](deploy-model.png)\n",
    "\n",
    "Click on \"Create new deployment\" and folow the pop up to create model(s) you need. \n",
    "- \"Deployment name\" is used to configure the code, therefore, ideally you should use \"model\" name as \"deployment name\" to make it easier to remember and configure, \n",
    "- The list of models and their most optimial use cases can be found in [Azure OpenAI Service models](https://learn.microsoft.com/en-us/azure/cognitive-services/openai/concepts/models)\n",
    "- You can also experiment with \"Playground\", which provide a rich set of examples to play with to understand Azure OpenAI's offerings in a more intuitive way.\n",
    "\n",
    "![deploy-model](create-new-deployment.png)"
   ]
  },
  {
   "cell_type": "markdown",
   "id": "9186b0e6",
   "metadata": {},
   "source": [
    "## Retrieve API key\n",
    "\n",
    "Navigate back to resource page, and click on \"Keys and Endpoint\" under \"Resource Management\", make a note of the following information, the KEY, country/region and endpoint.\n",
    "\n",
    "![resource-management](resource-management.png)"
   ]
  },
  {
   "cell_type": "markdown",
   "id": "08bb821d",
   "metadata": {},
   "source": [
    "## Set up API key\n",
    "\n",
    "Create `.env` file if it does not exist\n",
    "\n",
    "``` bash\n",
    "touch ~/.env\n",
    "```\n",
    "\n",
    "Insert `api_base` and `api_key` \n",
    "\n",
    "``` bash\n",
    "echo \"AZURE_OPENAI_API_BASE='azure_open_api_base'\" >> ~/.env\n",
    "echo \"AZURE_OPENAI_API_KEY='azure_open_api_key'\" >> ~/.env\n",
    "```"
   ]
  },
  {
   "cell_type": "markdown",
   "id": "adce64c0",
   "metadata": {},
   "source": [
    "## Test Run"
   ]
  },
  {
   "cell_type": "code",
   "execution_count": 4,
   "id": "d2325531",
   "metadata": {},
   "outputs": [
    {
     "name": "stdout",
     "output_type": "stream",
     "text": [
      "{\n",
      "  \"choices\": [\n",
      "    {\n",
      "      \"finish_reason\": \"stop\",\n",
      "      \"index\": 0,\n",
      "      \"message\": {\n",
      "        \"content\": \"Microsoft was founded by Bill Gates and Paul Allen in April 4, 1975.\",\n",
      "        \"role\": \"assistant\"\n",
      "      }\n",
      "    }\n",
      "  ],\n",
      "  \"created\": 1684682073,\n",
      "  \"id\": \"chatcmpl-7If3RiJOzNA9M8Oxmrc4MRvuwKrTz\",\n",
      "  \"model\": \"gpt-35-turbo\",\n",
      "  \"object\": \"chat.completion\",\n",
      "  \"usage\": {\n",
      "    \"completion_tokens\": 18,\n",
      "    \"prompt_tokens\": 31,\n",
      "    \"total_tokens\": 49\n",
      "  }\n",
      "}\n",
      "Microsoft was founded by Bill Gates and Paul Allen in April 4, 1975.\n"
     ]
    }
   ],
   "source": [
    "import dotenv\n",
    "import os\n",
    "import openai\n",
    "\n",
    "dotenv.load_dotenv()\n",
    "openai.api_type = \"azure\"\n",
    "openai.api_version = \"2023-05-15\" \n",
    "openai.api_base = os.getenv(\"AZURE_OPENAI_API_BASE\")  # Your Azure OpenAI resource's endpoint value.\n",
    "openai.api_key = os.getenv(\"AZURE_OPENAI_API_KEY\")\n",
    "\n",
    "response = openai.ChatCompletion.create(\n",
    "    engine=\"gpt-35-turbo\", # The deployment name you chose when you deployed the ChatGPT or GPT-4 model.\n",
    "    messages=[\n",
    "        {\"role\": \"system\", \"content\": \"Assistant is a large language model trained by OpenAI.\"},\n",
    "        {\"role\": \"user\", \"content\": \"Who were the founders of Microsoft?\"}\n",
    "    ]\n",
    ")\n",
    "\n",
    "print(response)\n",
    "\n",
    "print(response['choices'][0]['message']['content'])"
   ]
  },
  {
   "cell_type": "code",
   "execution_count": null,
   "id": "f466af31",
   "metadata": {},
   "outputs": [],
   "source": []
  }
 ],
 "metadata": {
  "kernelspec": {
   "display_name": "Python 3 (ipykernel)",
   "language": "python",
   "name": "python3"
  },
  "language_info": {
   "codemirror_mode": {
    "name": "ipython",
    "version": 3
   },
   "file_extension": ".py",
   "mimetype": "text/x-python",
   "name": "python",
   "nbconvert_exporter": "python",
   "pygments_lexer": "ipython3",
   "version": "3.10.11"
  }
 },
 "nbformat": 4,
 "nbformat_minor": 5
}
