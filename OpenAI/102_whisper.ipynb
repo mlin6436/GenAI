{
 "cells": [
  {
   "cell_type": "markdown",
   "id": "8da491ba",
   "metadata": {},
   "source": [
    "# Whisper\n",
    "\n",
    "This is a quick tutorial to showcase one of OpenAI's multimodal capability, specifically speech to text transformation. \n",
    "\n",
    "The speech recognition model used is called [Whisper](https://openai.com/research/whisper), and it's completely free and open-source. It is trained on 680,000 hours of multilingual data and is capable of dealing with complex inputs such as accents, background noise etc. You can take a closer look into the [technical details](https://help.openai.com/en/articles/7031512-whisper-api-faq) or [implementation](https://github.com/openai/whisper).\n",
    "\n",
    "One thing to note, there are a number of available models in Whisper, and this is useful to know as it will be configured in the code.\n",
    "\n",
    "|  Size  | Parameters | English-only model | Multilingual model | Required VRAM | Relative speed |\n",
    "|:------:|:----------:|:------------------:|:------------------:|:-------------:|:--------------:|\n",
    "|  tiny  |    39 M    |     `tiny.en`      |       `tiny`       |     ~1 GB     |      ~32x      |\n",
    "|  base  |    74 M    |     `base.en`      |       `base`       |     ~1 GB     |      ~16x      |\n",
    "| small  |   244 M    |     `small.en`     |      `small`       |     ~2 GB     |      ~6x       |\n",
    "| medium |   769 M    |    `medium.en`     |      `medium`      |     ~5 GB     |      ~2x       |\n",
    "| large  |   1550 M   |        N/A         |      `large`       |    ~10 GB     |       1x       |"
   ]
  },
  {
   "cell_type": "markdown",
   "id": "5c620ddf",
   "metadata": {},
   "source": [
    "## Transcription\n",
    "\n",
    "To start with, I will ask Whisper to transcribe the famous `I have a particular set of skills` speech from `Liam Neeson`, I strongly encourage you to checkout the original film [Taken](https://en.wikipedia.org/wiki/Taken_(film)) if you haven't seen the whole movie before. \n",
    "\n",
    "I will first need to download the clip from YouTube, then extract only the audio from the clip."
   ]
  },
  {
   "cell_type": "code",
   "execution_count": null,
   "id": "e1ad1ba0",
   "metadata": {},
   "outputs": [],
   "source": [
    "!pip install -— upgrade pytube"
   ]
  },
  {
   "cell_type": "code",
   "execution_count": 5,
   "id": "45ef1800",
   "metadata": {},
   "outputs": [
    {
     "data": {
      "text/plain": [
       "'/Users/meng.lin/workspace/GenAI/OpenAI/taken.mp4'"
      ]
     },
     "execution_count": 5,
     "metadata": {},
     "output_type": "execute_result"
    }
   ],
   "source": [
    "import pytube\n",
    "\n",
    "video = \"https://www.youtube.com/watch?v=-LIIf7E-qFI\"\n",
    "data = pytube.YouTube(video)\n",
    "audio = data.streams.get_audio_only()\n",
    "audio.download(filename = \"taken.mp4\")"
   ]
  },
  {
   "cell_type": "markdown",
   "id": "453a2a7e",
   "metadata": {},
   "source": [
    "Once we have the audio file, we can start the transcription process."
   ]
  },
  {
   "cell_type": "code",
   "execution_count": null,
   "id": "16c4f0cc",
   "metadata": {},
   "outputs": [],
   "source": [
    "!pip install git+https://github.com/openai/whisper.git -q"
   ]
  },
  {
   "cell_type": "markdown",
   "id": "0d12ccad",
   "metadata": {},
   "source": [
    "You may receive a warning `UserWarning: FP16 is not supported on CPU; using FP32 instead warnings.warn(\"FP16 is not supported on CPU; using FP32 instead\")` during the transcribe, if you don't specify this flag `fp16-False`. It's a nuance that should have been sorted out, you can dig deeper into this topic [here](https://www.quora.com/What-is-the-difference-between-FP16-and-FP32-when-doing-deep-learning) if this is the kind of topic that interests you."
   ]
  },
  {
   "cell_type": "code",
   "execution_count": 5,
   "id": "e6d07bb8",
   "metadata": {},
   "outputs": [
    {
     "name": "stderr",
     "output_type": "stream",
     "text": [
      "100%|█████████████████████████████████████| 2.87G/2.87G [07:27<00:00, 6.90MiB/s]\n"
     ]
    },
    {
     "data": {
      "text/plain": [
       "\" I don't know who you are. I don't know what you want. If you are looking for a ransom, I can tell you I don't have money. But what I do have are a very particular set of skills. Skills I have acquired over a very long career. Skills that make me a nightmare for people like you. If you let my daughter go now, that will be the end of it. I will not look for you. I will not pursue you. But if you don't, I will look for you. I will find you. And I will kill you. Good luck.\""
      ]
     },
     "execution_count": 5,
     "metadata": {},
     "output_type": "execute_result"
    }
   ],
   "source": [
    "import whisper\n",
    "model = whisper.load_model(\"large\")\n",
    "transcribe = model.transcribe(\"taken.mp4\", fp16 = False)\n",
    "transcribe['text']"
   ]
  },
  {
   "cell_type": "markdown",
   "id": "54fca30f",
   "metadata": {},
   "source": [
    "As you can see it actually works pretty well.\n",
    "\n",
    "However, there are a couple of things to point out:\n",
    "- The result looks pretty decent is because the `large` model was used in this case. You would experience some subpar results using smaller models. Such as, I got the result of `Skills I have acquired are for a very long career` instead of `Skills I have acquired over a very long career` when using `tiny` and `base` models.\n",
    "- Even though larger model produces more accurate results, it also takes longer to get there."
   ]
  },
  {
   "cell_type": "markdown",
   "id": "607c9a4b",
   "metadata": {},
   "source": [
    "## Transcription for non-English languages\n",
    "\n",
    "Whisper does a great job transcribe English, what about other languages? It turns out Whisper currently supports 99 different languages.\n",
    "\n",
    "I will use a movie clip from `Les Choristes`, or `The Chorus`, and see how well Whisper does in transcribing French."
   ]
  },
  {
   "cell_type": "code",
   "execution_count": 3,
   "id": "c2c72f0c",
   "metadata": {},
   "outputs": [
    {
     "data": {
      "text/plain": [
       "\" 30 janvier, début de l'expérience. Ils en déchapperont vivre les bretons... Ils en déchapperont vivre la Bretagne, Ils en déchapperont vivre les bretons... Soprano, à gauche. Leclerc. Il est né le divin enfant, Chantons tous son avènement... Oui, c'est presque juste. Alto, à gauche. De l'air. 3 km à pied, ça use, ça use, 3 km à pied, ça use et souillez. Oui, on va recommencer, là. 4 km à pied, ça use, ça use, 4 km à pied, ça use et souillez. C'est bien ce que je pensais. Basse, à droite. Riqueur. J'ai du doux. J'ai du bon tabac dans ma tabatière, J'ai du bon tabac, tu n'en auras pas. T'es interdit de fumer. Alto, à gauche. Il ouse. L'amour est enfant de Bohème, Il n'a jamais, jamais connu de loi. Soprano, évidemment, à gauche. Viens, Pépinot. Je connais pas de chansons. C'est pas grave, je vais t'en apprendre. En attendant, je te nomme assistant chef de chœur. Voilà. Boniface. Maréchal, nous voilà ! Mais qu'est-ce qui t'a appris ça, toi ? C'est mon grand-père. T'es un peu démodé. Bon, à gauche. Clément. Aux armes, citoyens, tête de chien, Formez vos bataillons, bande de couillons. Les monos, c'est de la racaille, Ça fume, ça boit, pour tout ce que ça travaille. A gauche. Coucou, Ibu, coucou, Ibu, coucou, Ibu, coucou. Coucou, Ibu, coucou, Ibu, coucou, Ibu, coucou. Très bien. Alto. Mais tu ne peux pas me dire de quoi tu parles. Quoi ? Pourquoi tu me ment ? T'en fous ! T'en fous ! T'en fous ! T'en fous ! T'en fous ! T'en fous ! T'en fous ! T'en fous ! T'en fous ! Abonnez vous ... Ma seconde chaîne ... Voir une autre vidéo ...\""
      ]
     },
     "execution_count": 3,
     "metadata": {},
     "output_type": "execute_result"
    }
   ],
   "source": [
    "import pytube\n",
    "import whisper\n",
    "\n",
    "video = \"https://www.youtube.com/watch?v=qcHpow4k4v8\"\n",
    "data = pytube.YouTube(video)\n",
    "audio = data.streams.get_audio_only()\n",
    "audio.download(filename=\"the_chorus.mp4\")\n",
    "\n",
    "model = whisper.load_model(\"large\")\n",
    "transcribe = model.transcribe(\"the_chorus.mp4\", fp16 = False)\n",
    "transcribe['text']"
   ]
  },
  {
   "cell_type": "markdown",
   "id": "56ffca57",
   "metadata": {},
   "source": [
    "Looks pretty decent comparing the result to the subtitle in the clip. \n",
    "\n",
    "But what if you don't understand a word of French? There's another amazing capability of Whisper that can help with that."
   ]
  },
  {
   "cell_type": "markdown",
   "id": "f9766c02",
   "metadata": {},
   "source": [
    "## Translation into English\n",
    "\n",
    "In addition to speech recognition and language identification, Whisper is also able to translate between different languages. However, the current model can only translate from any non-English languages to English for [some reason](https://github.com/openai/whisper/discussions/649).\n",
    "\n",
    "Regardless, we will take a look at how this can be implemented and how well Whisper is at the task."
   ]
  },
  {
   "cell_type": "code",
   "execution_count": 4,
   "id": "d399e9d0",
   "metadata": {},
   "outputs": [
    {
     "data": {
      "text/plain": [
       "\" The beginning of the experiment 30 January, the beginning of the experiment They have round hats, long live the Bretons They have round hats, long live Britain They have round hats, long live the Bretons Soprano, on the left Leclerc He was born the divine child Let's all sing his advent Almost right, alto on the left Delair 3 km on foot, it's getting worse 3 km on foot, it's getting worse Start again 4 km on foot, it's getting worse 4 km on foot, it's getting worse That's what I thought, bass on the right Ricœur I've got good tobacco in my tobacco box I've got good tobacco, you won't have any You're not allowed to smoke Alto on the left Illouz Love is a child of Bohemia He has never, never known of law Soprano, of course, on the left Come on, Pépinot I don't know any songs It's OK, I'll teach you some In the meantime, I'll call you assistant choir conductor Boniface Maréchal, here we are Where did you learn that? What did you learn? It's my grandfather You're a bit out of style On the left Clément To the citizens, heads of the house Form your battalions, you bunch of balls On the right Monkeys are a bunch of rascals They smoke their wood for all their work On the left Hi Ibu, hi Ibu Very good, Alto Alright My second channel ... See another video ...\""
      ]
     },
     "execution_count": 4,
     "metadata": {},
     "output_type": "execute_result"
    }
   ],
   "source": [
    "french_to_english = model.transcribe(\"the_chorus.mp4\", fp16 = False, task = 'translate')\n",
    "french_to_english[\"text\"]"
   ]
  },
  {
   "cell_type": "markdown",
   "id": "0321a6b0",
   "metadata": {},
   "source": [
    "Even though I wouldn't say it's the best result, it is still really cool. I hope your journey doesn't stop here, but to continue experiment and build amazing things with these amazing features of OpenAI."
   ]
  }
 ],
 "metadata": {
  "kernelspec": {
   "display_name": "Python 3 (ipykernel)",
   "language": "python",
   "name": "python3"
  },
  "language_info": {
   "codemirror_mode": {
    "name": "ipython",
    "version": 3
   },
   "file_extension": ".py",
   "mimetype": "text/x-python",
   "name": "python",
   "nbconvert_exporter": "python",
   "pygments_lexer": "ipython3",
   "version": "3.10.11"
  }
 },
 "nbformat": 4,
 "nbformat_minor": 5
}
